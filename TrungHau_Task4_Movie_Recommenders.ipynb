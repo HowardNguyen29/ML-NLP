{
 "cells": [
  {
   "cell_type": "code",
   "execution_count": 1,
   "id": "30c7d359",
   "metadata": {},
   "outputs": [],
   "source": [
    "import pandas as pd\n",
    "import numpy as np\n",
    "from matplotlib import pyplot as plt"
   ]
  },
  {
   "cell_type": "code",
   "execution_count": 2,
   "id": "1e102925",
   "metadata": {},
   "outputs": [],
   "source": [
    "movie_data = pd.read_csv('ml-20m/movies.csv')\n"
   ]
  },
  {
   "cell_type": "code",
   "execution_count": 3,
   "id": "0a2e541d",
   "metadata": {},
   "outputs": [
    {
     "data": {
      "text/html": [
       "<div>\n",
       "<style scoped>\n",
       "    .dataframe tbody tr th:only-of-type {\n",
       "        vertical-align: middle;\n",
       "    }\n",
       "\n",
       "    .dataframe tbody tr th {\n",
       "        vertical-align: top;\n",
       "    }\n",
       "\n",
       "    .dataframe thead th {\n",
       "        text-align: right;\n",
       "    }\n",
       "</style>\n",
       "<table border=\"1\" class=\"dataframe\">\n",
       "  <thead>\n",
       "    <tr style=\"text-align: right;\">\n",
       "      <th></th>\n",
       "      <th>movieId</th>\n",
       "      <th>title</th>\n",
       "      <th>genres</th>\n",
       "    </tr>\n",
       "  </thead>\n",
       "  <tbody>\n",
       "    <tr>\n",
       "      <th>0</th>\n",
       "      <td>1</td>\n",
       "      <td>Toy Story (1995)</td>\n",
       "      <td>Adventure|Animation|Children|Comedy|Fantasy</td>\n",
       "    </tr>\n",
       "    <tr>\n",
       "      <th>1</th>\n",
       "      <td>2</td>\n",
       "      <td>Jumanji (1995)</td>\n",
       "      <td>Adventure|Children|Fantasy</td>\n",
       "    </tr>\n",
       "    <tr>\n",
       "      <th>2</th>\n",
       "      <td>3</td>\n",
       "      <td>Grumpier Old Men (1995)</td>\n",
       "      <td>Comedy|Romance</td>\n",
       "    </tr>\n",
       "    <tr>\n",
       "      <th>3</th>\n",
       "      <td>4</td>\n",
       "      <td>Waiting to Exhale (1995)</td>\n",
       "      <td>Comedy|Drama|Romance</td>\n",
       "    </tr>\n",
       "    <tr>\n",
       "      <th>4</th>\n",
       "      <td>5</td>\n",
       "      <td>Father of the Bride Part II (1995)</td>\n",
       "      <td>Comedy</td>\n",
       "    </tr>\n",
       "  </tbody>\n",
       "</table>\n",
       "</div>"
      ],
      "text/plain": [
       "   movieId                               title  \\\n",
       "0        1                    Toy Story (1995)   \n",
       "1        2                      Jumanji (1995)   \n",
       "2        3             Grumpier Old Men (1995)   \n",
       "3        4            Waiting to Exhale (1995)   \n",
       "4        5  Father of the Bride Part II (1995)   \n",
       "\n",
       "                                        genres  \n",
       "0  Adventure|Animation|Children|Comedy|Fantasy  \n",
       "1                   Adventure|Children|Fantasy  \n",
       "2                               Comedy|Romance  \n",
       "3                         Comedy|Drama|Romance  \n",
       "4                                       Comedy  "
      ]
     },
     "execution_count": 3,
     "metadata": {},
     "output_type": "execute_result"
    }
   ],
   "source": [
    "movie_data.head()"
   ]
  },
  {
   "cell_type": "code",
   "execution_count": 4,
   "id": "43833610",
   "metadata": {},
   "outputs": [],
   "source": [
    "rating_data = pd.read_csv('ml-20m/ratings.csv')"
   ]
  },
  {
   "cell_type": "code",
   "execution_count": 5,
   "id": "7dce8b47",
   "metadata": {},
   "outputs": [
    {
     "data": {
      "text/html": [
       "<div>\n",
       "<style scoped>\n",
       "    .dataframe tbody tr th:only-of-type {\n",
       "        vertical-align: middle;\n",
       "    }\n",
       "\n",
       "    .dataframe tbody tr th {\n",
       "        vertical-align: top;\n",
       "    }\n",
       "\n",
       "    .dataframe thead th {\n",
       "        text-align: right;\n",
       "    }\n",
       "</style>\n",
       "<table border=\"1\" class=\"dataframe\">\n",
       "  <thead>\n",
       "    <tr style=\"text-align: right;\">\n",
       "      <th></th>\n",
       "      <th>userId</th>\n",
       "      <th>movieId</th>\n",
       "      <th>rating</th>\n",
       "      <th>timestamp</th>\n",
       "    </tr>\n",
       "  </thead>\n",
       "  <tbody>\n",
       "    <tr>\n",
       "      <th>0</th>\n",
       "      <td>1</td>\n",
       "      <td>2</td>\n",
       "      <td>3.5</td>\n",
       "      <td>1112486027</td>\n",
       "    </tr>\n",
       "    <tr>\n",
       "      <th>1</th>\n",
       "      <td>1</td>\n",
       "      <td>29</td>\n",
       "      <td>3.5</td>\n",
       "      <td>1112484676</td>\n",
       "    </tr>\n",
       "    <tr>\n",
       "      <th>2</th>\n",
       "      <td>1</td>\n",
       "      <td>32</td>\n",
       "      <td>3.5</td>\n",
       "      <td>1112484819</td>\n",
       "    </tr>\n",
       "    <tr>\n",
       "      <th>3</th>\n",
       "      <td>1</td>\n",
       "      <td>47</td>\n",
       "      <td>3.5</td>\n",
       "      <td>1112484727</td>\n",
       "    </tr>\n",
       "    <tr>\n",
       "      <th>4</th>\n",
       "      <td>1</td>\n",
       "      <td>50</td>\n",
       "      <td>3.5</td>\n",
       "      <td>1112484580</td>\n",
       "    </tr>\n",
       "  </tbody>\n",
       "</table>\n",
       "</div>"
      ],
      "text/plain": [
       "   userId  movieId  rating   timestamp\n",
       "0       1        2     3.5  1112486027\n",
       "1       1       29     3.5  1112484676\n",
       "2       1       32     3.5  1112484819\n",
       "3       1       47     3.5  1112484727\n",
       "4       1       50     3.5  1112484580"
      ]
     },
     "execution_count": 5,
     "metadata": {},
     "output_type": "execute_result"
    }
   ],
   "source": [
    "rating_data.head()"
   ]
  },
  {
   "cell_type": "code",
   "execution_count": 6,
   "id": "3fe87828",
   "metadata": {},
   "outputs": [
    {
     "name": "stdout",
     "output_type": "stream",
     "text": [
      "<class 'pandas.core.frame.DataFrame'>\n",
      "RangeIndex: 20000263 entries, 0 to 20000262\n",
      "Data columns (total 4 columns):\n",
      " #   Column     Dtype  \n",
      "---  ------     -----  \n",
      " 0   userId     int64  \n",
      " 1   movieId    int64  \n",
      " 2   rating     float64\n",
      " 3   timestamp  int64  \n",
      "dtypes: float64(1), int64(3)\n",
      "memory usage: 610.4 MB\n"
     ]
    }
   ],
   "source": [
    "rating_data.info()"
   ]
  },
  {
   "cell_type": "code",
   "execution_count": 7,
   "id": "0be2ce71",
   "metadata": {},
   "outputs": [
    {
     "name": "stdout",
     "output_type": "stream",
     "text": [
      "<class 'pandas.core.frame.DataFrame'>\n",
      "RangeIndex: 100000 entries, 0 to 99999\n",
      "Data columns (total 5 columns):\n",
      " #   Column     Non-Null Count   Dtype  \n",
      "---  ------     --------------   -----  \n",
      " 0   index      100000 non-null  int64  \n",
      " 1   userId     100000 non-null  int64  \n",
      " 2   movieId    100000 non-null  int64  \n",
      " 3   rating     100000 non-null  float64\n",
      " 4   timestamp  100000 non-null  int64  \n",
      "dtypes: float64(1), int64(4)\n",
      "memory usage: 3.8 MB\n"
     ]
    }
   ],
   "source": [
    "ratingsNew = rating_data.sample(n=100000).reset_index()\n",
    "ratingsNew.info()"
   ]
  },
  {
   "cell_type": "code",
   "execution_count": 8,
   "id": "91c1de1a",
   "metadata": {},
   "outputs": [],
   "source": [
    "tag_data = pd.read_csv('ml-20m/tags.csv')"
   ]
  },
  {
   "cell_type": "code",
   "execution_count": 9,
   "id": "82e50b89",
   "metadata": {},
   "outputs": [
    {
     "data": {
      "text/html": [
       "<div>\n",
       "<style scoped>\n",
       "    .dataframe tbody tr th:only-of-type {\n",
       "        vertical-align: middle;\n",
       "    }\n",
       "\n",
       "    .dataframe tbody tr th {\n",
       "        vertical-align: top;\n",
       "    }\n",
       "\n",
       "    .dataframe thead th {\n",
       "        text-align: right;\n",
       "    }\n",
       "</style>\n",
       "<table border=\"1\" class=\"dataframe\">\n",
       "  <thead>\n",
       "    <tr style=\"text-align: right;\">\n",
       "      <th></th>\n",
       "      <th>userId</th>\n",
       "      <th>movieId</th>\n",
       "      <th>tag</th>\n",
       "      <th>timestamp</th>\n",
       "    </tr>\n",
       "  </thead>\n",
       "  <tbody>\n",
       "    <tr>\n",
       "      <th>0</th>\n",
       "      <td>18</td>\n",
       "      <td>4141</td>\n",
       "      <td>Mark Waters</td>\n",
       "      <td>1240597180</td>\n",
       "    </tr>\n",
       "    <tr>\n",
       "      <th>1</th>\n",
       "      <td>65</td>\n",
       "      <td>208</td>\n",
       "      <td>dark hero</td>\n",
       "      <td>1368150078</td>\n",
       "    </tr>\n",
       "    <tr>\n",
       "      <th>2</th>\n",
       "      <td>65</td>\n",
       "      <td>353</td>\n",
       "      <td>dark hero</td>\n",
       "      <td>1368150079</td>\n",
       "    </tr>\n",
       "    <tr>\n",
       "      <th>3</th>\n",
       "      <td>65</td>\n",
       "      <td>521</td>\n",
       "      <td>noir thriller</td>\n",
       "      <td>1368149983</td>\n",
       "    </tr>\n",
       "    <tr>\n",
       "      <th>4</th>\n",
       "      <td>65</td>\n",
       "      <td>592</td>\n",
       "      <td>dark hero</td>\n",
       "      <td>1368150078</td>\n",
       "    </tr>\n",
       "  </tbody>\n",
       "</table>\n",
       "</div>"
      ],
      "text/plain": [
       "   userId  movieId            tag   timestamp\n",
       "0      18     4141    Mark Waters  1240597180\n",
       "1      65      208      dark hero  1368150078\n",
       "2      65      353      dark hero  1368150079\n",
       "3      65      521  noir thriller  1368149983\n",
       "4      65      592      dark hero  1368150078"
      ]
     },
     "execution_count": 9,
     "metadata": {},
     "output_type": "execute_result"
    }
   ],
   "source": [
    "tag_data.head()"
   ]
  },
  {
   "attachments": {},
   "cell_type": "markdown",
   "id": "4dce4615",
   "metadata": {},
   "source": [
    "## Number of USERS and MOVIES in this dataset"
   ]
  },
  {
   "cell_type": "code",
   "execution_count": 10,
   "id": "48506f1e",
   "metadata": {},
   "outputs": [
    {
     "data": {
      "text/plain": [
       "52029"
      ]
     },
     "execution_count": 10,
     "metadata": {},
     "output_type": "execute_result"
    }
   ],
   "source": [
    "n_users = ratingsNew.userId.unique().shape[0]\n",
    "n_users"
   ]
  },
  {
   "cell_type": "code",
   "execution_count": 11,
   "id": "ae78273d",
   "metadata": {},
   "outputs": [
    {
     "data": {
      "text/plain": [
       "8384"
      ]
     },
     "execution_count": 11,
     "metadata": {},
     "output_type": "execute_result"
    }
   ],
   "source": [
    "n_items = ratingsNew.movieId.unique().shape[0]\n",
    "n_items"
   ]
  },
  {
   "attachments": {},
   "cell_type": "markdown",
   "id": "84324eaa",
   "metadata": {},
   "source": [
    "## USERS-ITEMS"
   ]
  },
  {
   "cell_type": "code",
   "execution_count": 12,
   "id": "2d635ebe",
   "metadata": {},
   "outputs": [],
   "source": [
    "from scipy.sparse import csr_matrix\n",
    "\n",
    "user_movies_data = ratingsNew.pivot(index = 'movieId', columns = 'userId', values = 'rating').fillna(0)"
   ]
  },
  {
   "cell_type": "code",
   "execution_count": 13,
   "id": "db144ef4",
   "metadata": {},
   "outputs": [
    {
     "data": {
      "text/html": [
       "<div>\n",
       "<style scoped>\n",
       "    .dataframe tbody tr th:only-of-type {\n",
       "        vertical-align: middle;\n",
       "    }\n",
       "\n",
       "    .dataframe tbody tr th {\n",
       "        vertical-align: top;\n",
       "    }\n",
       "\n",
       "    .dataframe thead th {\n",
       "        text-align: right;\n",
       "    }\n",
       "</style>\n",
       "<table border=\"1\" class=\"dataframe\">\n",
       "  <thead>\n",
       "    <tr style=\"text-align: right;\">\n",
       "      <th>userId</th>\n",
       "      <th>1</th>\n",
       "      <th>3</th>\n",
       "      <th>6</th>\n",
       "      <th>8</th>\n",
       "      <th>9</th>\n",
       "      <th>11</th>\n",
       "      <th>14</th>\n",
       "      <th>18</th>\n",
       "      <th>24</th>\n",
       "      <th>25</th>\n",
       "      <th>...</th>\n",
       "      <th>138472</th>\n",
       "      <th>138473</th>\n",
       "      <th>138474</th>\n",
       "      <th>138475</th>\n",
       "      <th>138477</th>\n",
       "      <th>138483</th>\n",
       "      <th>138484</th>\n",
       "      <th>138486</th>\n",
       "      <th>138487</th>\n",
       "      <th>138493</th>\n",
       "    </tr>\n",
       "    <tr>\n",
       "      <th>movieId</th>\n",
       "      <th></th>\n",
       "      <th></th>\n",
       "      <th></th>\n",
       "      <th></th>\n",
       "      <th></th>\n",
       "      <th></th>\n",
       "      <th></th>\n",
       "      <th></th>\n",
       "      <th></th>\n",
       "      <th></th>\n",
       "      <th></th>\n",
       "      <th></th>\n",
       "      <th></th>\n",
       "      <th></th>\n",
       "      <th></th>\n",
       "      <th></th>\n",
       "      <th></th>\n",
       "      <th></th>\n",
       "      <th></th>\n",
       "      <th></th>\n",
       "      <th></th>\n",
       "    </tr>\n",
       "  </thead>\n",
       "  <tbody>\n",
       "    <tr>\n",
       "      <th>1</th>\n",
       "      <td>0.0</td>\n",
       "      <td>0.0</td>\n",
       "      <td>0.0</td>\n",
       "      <td>0.0</td>\n",
       "      <td>0.0</td>\n",
       "      <td>0.0</td>\n",
       "      <td>0.0</td>\n",
       "      <td>0.0</td>\n",
       "      <td>0.0</td>\n",
       "      <td>0.0</td>\n",
       "      <td>...</td>\n",
       "      <td>0.0</td>\n",
       "      <td>0.0</td>\n",
       "      <td>0.0</td>\n",
       "      <td>0.0</td>\n",
       "      <td>0.0</td>\n",
       "      <td>0.0</td>\n",
       "      <td>0.0</td>\n",
       "      <td>0.0</td>\n",
       "      <td>0.0</td>\n",
       "      <td>0.0</td>\n",
       "    </tr>\n",
       "    <tr>\n",
       "      <th>2</th>\n",
       "      <td>0.0</td>\n",
       "      <td>0.0</td>\n",
       "      <td>0.0</td>\n",
       "      <td>0.0</td>\n",
       "      <td>0.0</td>\n",
       "      <td>0.0</td>\n",
       "      <td>0.0</td>\n",
       "      <td>0.0</td>\n",
       "      <td>0.0</td>\n",
       "      <td>0.0</td>\n",
       "      <td>...</td>\n",
       "      <td>0.0</td>\n",
       "      <td>0.0</td>\n",
       "      <td>0.0</td>\n",
       "      <td>0.0</td>\n",
       "      <td>0.0</td>\n",
       "      <td>0.0</td>\n",
       "      <td>0.0</td>\n",
       "      <td>0.0</td>\n",
       "      <td>0.0</td>\n",
       "      <td>0.0</td>\n",
       "    </tr>\n",
       "    <tr>\n",
       "      <th>3</th>\n",
       "      <td>0.0</td>\n",
       "      <td>0.0</td>\n",
       "      <td>0.0</td>\n",
       "      <td>0.0</td>\n",
       "      <td>0.0</td>\n",
       "      <td>0.0</td>\n",
       "      <td>0.0</td>\n",
       "      <td>0.0</td>\n",
       "      <td>0.0</td>\n",
       "      <td>0.0</td>\n",
       "      <td>...</td>\n",
       "      <td>0.0</td>\n",
       "      <td>0.0</td>\n",
       "      <td>0.0</td>\n",
       "      <td>0.0</td>\n",
       "      <td>0.0</td>\n",
       "      <td>0.0</td>\n",
       "      <td>0.0</td>\n",
       "      <td>0.0</td>\n",
       "      <td>0.0</td>\n",
       "      <td>0.0</td>\n",
       "    </tr>\n",
       "    <tr>\n",
       "      <th>4</th>\n",
       "      <td>0.0</td>\n",
       "      <td>0.0</td>\n",
       "      <td>0.0</td>\n",
       "      <td>0.0</td>\n",
       "      <td>0.0</td>\n",
       "      <td>0.0</td>\n",
       "      <td>0.0</td>\n",
       "      <td>0.0</td>\n",
       "      <td>0.0</td>\n",
       "      <td>0.0</td>\n",
       "      <td>...</td>\n",
       "      <td>0.0</td>\n",
       "      <td>0.0</td>\n",
       "      <td>0.0</td>\n",
       "      <td>0.0</td>\n",
       "      <td>0.0</td>\n",
       "      <td>0.0</td>\n",
       "      <td>0.0</td>\n",
       "      <td>0.0</td>\n",
       "      <td>0.0</td>\n",
       "      <td>0.0</td>\n",
       "    </tr>\n",
       "    <tr>\n",
       "      <th>5</th>\n",
       "      <td>0.0</td>\n",
       "      <td>0.0</td>\n",
       "      <td>0.0</td>\n",
       "      <td>0.0</td>\n",
       "      <td>0.0</td>\n",
       "      <td>0.0</td>\n",
       "      <td>0.0</td>\n",
       "      <td>0.0</td>\n",
       "      <td>0.0</td>\n",
       "      <td>0.0</td>\n",
       "      <td>...</td>\n",
       "      <td>0.0</td>\n",
       "      <td>0.0</td>\n",
       "      <td>0.0</td>\n",
       "      <td>0.0</td>\n",
       "      <td>0.0</td>\n",
       "      <td>0.0</td>\n",
       "      <td>0.0</td>\n",
       "      <td>0.0</td>\n",
       "      <td>0.0</td>\n",
       "      <td>0.0</td>\n",
       "    </tr>\n",
       "    <tr>\n",
       "      <th>...</th>\n",
       "      <td>...</td>\n",
       "      <td>...</td>\n",
       "      <td>...</td>\n",
       "      <td>...</td>\n",
       "      <td>...</td>\n",
       "      <td>...</td>\n",
       "      <td>...</td>\n",
       "      <td>...</td>\n",
       "      <td>...</td>\n",
       "      <td>...</td>\n",
       "      <td>...</td>\n",
       "      <td>...</td>\n",
       "      <td>...</td>\n",
       "      <td>...</td>\n",
       "      <td>...</td>\n",
       "      <td>...</td>\n",
       "      <td>...</td>\n",
       "      <td>...</td>\n",
       "      <td>...</td>\n",
       "      <td>...</td>\n",
       "      <td>...</td>\n",
       "    </tr>\n",
       "    <tr>\n",
       "      <th>127315</th>\n",
       "      <td>0.0</td>\n",
       "      <td>0.0</td>\n",
       "      <td>0.0</td>\n",
       "      <td>0.0</td>\n",
       "      <td>0.0</td>\n",
       "      <td>0.0</td>\n",
       "      <td>0.0</td>\n",
       "      <td>0.0</td>\n",
       "      <td>0.0</td>\n",
       "      <td>0.0</td>\n",
       "      <td>...</td>\n",
       "      <td>0.0</td>\n",
       "      <td>0.0</td>\n",
       "      <td>0.0</td>\n",
       "      <td>0.0</td>\n",
       "      <td>0.0</td>\n",
       "      <td>0.0</td>\n",
       "      <td>0.0</td>\n",
       "      <td>0.0</td>\n",
       "      <td>0.0</td>\n",
       "      <td>0.0</td>\n",
       "    </tr>\n",
       "    <tr>\n",
       "      <th>128383</th>\n",
       "      <td>0.0</td>\n",
       "      <td>0.0</td>\n",
       "      <td>0.0</td>\n",
       "      <td>0.0</td>\n",
       "      <td>0.0</td>\n",
       "      <td>0.0</td>\n",
       "      <td>0.0</td>\n",
       "      <td>0.0</td>\n",
       "      <td>0.0</td>\n",
       "      <td>0.0</td>\n",
       "      <td>...</td>\n",
       "      <td>0.0</td>\n",
       "      <td>0.0</td>\n",
       "      <td>0.0</td>\n",
       "      <td>0.0</td>\n",
       "      <td>0.0</td>\n",
       "      <td>0.0</td>\n",
       "      <td>0.0</td>\n",
       "      <td>0.0</td>\n",
       "      <td>0.0</td>\n",
       "      <td>0.0</td>\n",
       "    </tr>\n",
       "    <tr>\n",
       "      <th>128842</th>\n",
       "      <td>0.0</td>\n",
       "      <td>0.0</td>\n",
       "      <td>0.0</td>\n",
       "      <td>0.0</td>\n",
       "      <td>0.0</td>\n",
       "      <td>0.0</td>\n",
       "      <td>0.0</td>\n",
       "      <td>0.0</td>\n",
       "      <td>0.0</td>\n",
       "      <td>0.0</td>\n",
       "      <td>...</td>\n",
       "      <td>0.0</td>\n",
       "      <td>0.0</td>\n",
       "      <td>0.0</td>\n",
       "      <td>0.0</td>\n",
       "      <td>0.0</td>\n",
       "      <td>0.0</td>\n",
       "      <td>0.0</td>\n",
       "      <td>0.0</td>\n",
       "      <td>0.0</td>\n",
       "      <td>0.0</td>\n",
       "    </tr>\n",
       "    <tr>\n",
       "      <th>130058</th>\n",
       "      <td>0.0</td>\n",
       "      <td>0.0</td>\n",
       "      <td>0.0</td>\n",
       "      <td>0.0</td>\n",
       "      <td>0.0</td>\n",
       "      <td>0.0</td>\n",
       "      <td>0.0</td>\n",
       "      <td>0.0</td>\n",
       "      <td>0.0</td>\n",
       "      <td>0.0</td>\n",
       "      <td>...</td>\n",
       "      <td>0.0</td>\n",
       "      <td>0.0</td>\n",
       "      <td>0.0</td>\n",
       "      <td>0.0</td>\n",
       "      <td>0.0</td>\n",
       "      <td>0.0</td>\n",
       "      <td>0.0</td>\n",
       "      <td>0.0</td>\n",
       "      <td>0.0</td>\n",
       "      <td>0.0</td>\n",
       "    </tr>\n",
       "    <tr>\n",
       "      <th>131243</th>\n",
       "      <td>0.0</td>\n",
       "      <td>0.0</td>\n",
       "      <td>0.0</td>\n",
       "      <td>0.0</td>\n",
       "      <td>0.0</td>\n",
       "      <td>0.0</td>\n",
       "      <td>0.0</td>\n",
       "      <td>0.0</td>\n",
       "      <td>0.0</td>\n",
       "      <td>0.0</td>\n",
       "      <td>...</td>\n",
       "      <td>0.0</td>\n",
       "      <td>0.0</td>\n",
       "      <td>0.0</td>\n",
       "      <td>0.0</td>\n",
       "      <td>0.0</td>\n",
       "      <td>0.0</td>\n",
       "      <td>0.0</td>\n",
       "      <td>0.0</td>\n",
       "      <td>0.0</td>\n",
       "      <td>0.0</td>\n",
       "    </tr>\n",
       "  </tbody>\n",
       "</table>\n",
       "<p>8384 rows × 52029 columns</p>\n",
       "</div>"
      ],
      "text/plain": [
       "userId   1       3       6       8       9       11      14      18      \\\n",
       "movieId                                                                   \n",
       "1           0.0     0.0     0.0     0.0     0.0     0.0     0.0     0.0   \n",
       "2           0.0     0.0     0.0     0.0     0.0     0.0     0.0     0.0   \n",
       "3           0.0     0.0     0.0     0.0     0.0     0.0     0.0     0.0   \n",
       "4           0.0     0.0     0.0     0.0     0.0     0.0     0.0     0.0   \n",
       "5           0.0     0.0     0.0     0.0     0.0     0.0     0.0     0.0   \n",
       "...         ...     ...     ...     ...     ...     ...     ...     ...   \n",
       "127315      0.0     0.0     0.0     0.0     0.0     0.0     0.0     0.0   \n",
       "128383      0.0     0.0     0.0     0.0     0.0     0.0     0.0     0.0   \n",
       "128842      0.0     0.0     0.0     0.0     0.0     0.0     0.0     0.0   \n",
       "130058      0.0     0.0     0.0     0.0     0.0     0.0     0.0     0.0   \n",
       "131243      0.0     0.0     0.0     0.0     0.0     0.0     0.0     0.0   \n",
       "\n",
       "userId   24      25      ...  138472  138473  138474  138475  138477  138483  \\\n",
       "movieId                  ...                                                   \n",
       "1           0.0     0.0  ...     0.0     0.0     0.0     0.0     0.0     0.0   \n",
       "2           0.0     0.0  ...     0.0     0.0     0.0     0.0     0.0     0.0   \n",
       "3           0.0     0.0  ...     0.0     0.0     0.0     0.0     0.0     0.0   \n",
       "4           0.0     0.0  ...     0.0     0.0     0.0     0.0     0.0     0.0   \n",
       "5           0.0     0.0  ...     0.0     0.0     0.0     0.0     0.0     0.0   \n",
       "...         ...     ...  ...     ...     ...     ...     ...     ...     ...   \n",
       "127315      0.0     0.0  ...     0.0     0.0     0.0     0.0     0.0     0.0   \n",
       "128383      0.0     0.0  ...     0.0     0.0     0.0     0.0     0.0     0.0   \n",
       "128842      0.0     0.0  ...     0.0     0.0     0.0     0.0     0.0     0.0   \n",
       "130058      0.0     0.0  ...     0.0     0.0     0.0     0.0     0.0     0.0   \n",
       "131243      0.0     0.0  ...     0.0     0.0     0.0     0.0     0.0     0.0   \n",
       "\n",
       "userId   138484  138486  138487  138493  \n",
       "movieId                                  \n",
       "1           0.0     0.0     0.0     0.0  \n",
       "2           0.0     0.0     0.0     0.0  \n",
       "3           0.0     0.0     0.0     0.0  \n",
       "4           0.0     0.0     0.0     0.0  \n",
       "5           0.0     0.0     0.0     0.0  \n",
       "...         ...     ...     ...     ...  \n",
       "127315      0.0     0.0     0.0     0.0  \n",
       "128383      0.0     0.0     0.0     0.0  \n",
       "128842      0.0     0.0     0.0     0.0  \n",
       "130058      0.0     0.0     0.0     0.0  \n",
       "131243      0.0     0.0     0.0     0.0  \n",
       "\n",
       "[8384 rows x 52029 columns]"
      ]
     },
     "execution_count": 13,
     "metadata": {},
     "output_type": "execute_result"
    }
   ],
   "source": [
    "user_movies_data"
   ]
  },
  {
   "attachments": {},
   "cell_type": "markdown",
   "id": "e57f6e87",
   "metadata": {},
   "source": [
    "### FILTERING"
   ]
  },
  {
   "cell_type": "code",
   "execution_count": 14,
   "id": "38a60cda",
   "metadata": {},
   "outputs": [
    {
     "data": {
      "text/html": [
       "<div>\n",
       "<style scoped>\n",
       "    .dataframe tbody tr th:only-of-type {\n",
       "        vertical-align: middle;\n",
       "    }\n",
       "\n",
       "    .dataframe tbody tr th {\n",
       "        vertical-align: top;\n",
       "    }\n",
       "\n",
       "    .dataframe thead th {\n",
       "        text-align: right;\n",
       "    }\n",
       "</style>\n",
       "<table border=\"1\" class=\"dataframe\">\n",
       "  <thead>\n",
       "    <tr style=\"text-align: right;\">\n",
       "      <th></th>\n",
       "      <th>movieId</th>\n",
       "      <th>title</th>\n",
       "      <th>genres</th>\n",
       "    </tr>\n",
       "  </thead>\n",
       "  <tbody>\n",
       "    <tr>\n",
       "      <th>0</th>\n",
       "      <td>2890</td>\n",
       "      <td>Three Kings (1999)</td>\n",
       "      <td>Action|Adventure|Comedy|Drama|War</td>\n",
       "    </tr>\n",
       "    <tr>\n",
       "      <th>48</th>\n",
       "      <td>8368</td>\n",
       "      <td>Harry Potter and the Prisoner of Azkaban (2004)</td>\n",
       "      <td>Adventure|Fantasy|IMAX</td>\n",
       "    </tr>\n",
       "    <tr>\n",
       "      <th>109</th>\n",
       "      <td>923</td>\n",
       "      <td>Citizen Kane (1941)</td>\n",
       "      <td>Drama|Mystery</td>\n",
       "    </tr>\n",
       "    <tr>\n",
       "      <th>201</th>\n",
       "      <td>2059</td>\n",
       "      <td>Parent Trap, The (1998)</td>\n",
       "      <td>Children|Comedy|Romance</td>\n",
       "    </tr>\n",
       "    <tr>\n",
       "      <th>219</th>\n",
       "      <td>1610</td>\n",
       "      <td>Hunt for Red October, The (1990)</td>\n",
       "      <td>Action|Adventure|Thriller</td>\n",
       "    </tr>\n",
       "  </tbody>\n",
       "</table>\n",
       "</div>"
      ],
      "text/plain": [
       "     movieId                                            title  \\\n",
       "0       2890                               Three Kings (1999)   \n",
       "48      8368  Harry Potter and the Prisoner of Azkaban (2004)   \n",
       "109      923                              Citizen Kane (1941)   \n",
       "201     2059                          Parent Trap, The (1998)   \n",
       "219     1610                 Hunt for Red October, The (1990)   \n",
       "\n",
       "                                genres  \n",
       "0    Action|Adventure|Comedy|Drama|War  \n",
       "48              Adventure|Fantasy|IMAX  \n",
       "109                      Drama|Mystery  \n",
       "201            Children|Comedy|Romance  \n",
       "219          Action|Adventure|Thriller  "
      ]
     },
     "execution_count": 14,
     "metadata": {},
     "output_type": "execute_result"
    }
   ],
   "source": [
    "movie_data_new = pd.merge(ratingsNew, movie_data, on='movieId')\n",
    "movie_data_new = movie_data_new[['movieId', 'title', 'genres']].drop_duplicates()\n",
    "movie_data_new.head()"
   ]
  },
  {
   "cell_type": "code",
   "execution_count": 15,
   "id": "15271cdc",
   "metadata": {},
   "outputs": [
    {
     "data": {
      "text/html": [
       "<div>\n",
       "<style scoped>\n",
       "    .dataframe tbody tr th:only-of-type {\n",
       "        vertical-align: middle;\n",
       "    }\n",
       "\n",
       "    .dataframe tbody tr th {\n",
       "        vertical-align: top;\n",
       "    }\n",
       "\n",
       "    .dataframe thead th {\n",
       "        text-align: right;\n",
       "    }\n",
       "</style>\n",
       "<table border=\"1\" class=\"dataframe\">\n",
       "  <thead>\n",
       "    <tr style=\"text-align: right;\">\n",
       "      <th></th>\n",
       "      <th>movieId</th>\n",
       "      <th>title</th>\n",
       "      <th>genres</th>\n",
       "      <th>full_metadata</th>\n",
       "    </tr>\n",
       "  </thead>\n",
       "  <tbody>\n",
       "    <tr>\n",
       "      <th>0</th>\n",
       "      <td>2890</td>\n",
       "      <td>Three Kings (1999)</td>\n",
       "      <td>Action|Adventure|Comedy|Drama|War</td>\n",
       "      <td>Action Adventure Comedy Drama War</td>\n",
       "    </tr>\n",
       "    <tr>\n",
       "      <th>48</th>\n",
       "      <td>8368</td>\n",
       "      <td>Harry Potter and the Prisoner of Azkaban (2004)</td>\n",
       "      <td>Adventure|Fantasy|IMAX</td>\n",
       "      <td>Adventure Fantasy IMAX</td>\n",
       "    </tr>\n",
       "    <tr>\n",
       "      <th>109</th>\n",
       "      <td>923</td>\n",
       "      <td>Citizen Kane (1941)</td>\n",
       "      <td>Drama|Mystery</td>\n",
       "      <td>Drama Mystery</td>\n",
       "    </tr>\n",
       "    <tr>\n",
       "      <th>201</th>\n",
       "      <td>2059</td>\n",
       "      <td>Parent Trap, The (1998)</td>\n",
       "      <td>Children|Comedy|Romance</td>\n",
       "      <td>Children Comedy Romance</td>\n",
       "    </tr>\n",
       "    <tr>\n",
       "      <th>219</th>\n",
       "      <td>1610</td>\n",
       "      <td>Hunt for Red October, The (1990)</td>\n",
       "      <td>Action|Adventure|Thriller</td>\n",
       "      <td>Action Adventure Thriller</td>\n",
       "    </tr>\n",
       "    <tr>\n",
       "      <th>...</th>\n",
       "      <td>...</td>\n",
       "      <td>...</td>\n",
       "      <td>...</td>\n",
       "      <td>...</td>\n",
       "    </tr>\n",
       "    <tr>\n",
       "      <th>99995</th>\n",
       "      <td>94542</td>\n",
       "      <td>Forgiveness of Blood, The (Falja e gjakut) (2011)</td>\n",
       "      <td>Drama</td>\n",
       "      <td>Drama</td>\n",
       "    </tr>\n",
       "    <tr>\n",
       "      <th>99996</th>\n",
       "      <td>46640</td>\n",
       "      <td>Why Does Herr R. Run Amok? (Warum läuft Herr R...</td>\n",
       "      <td>Drama</td>\n",
       "      <td>Drama</td>\n",
       "    </tr>\n",
       "    <tr>\n",
       "      <th>99997</th>\n",
       "      <td>5182</td>\n",
       "      <td>Hawk the Slayer (1980)</td>\n",
       "      <td>Action|Fantasy</td>\n",
       "      <td>Action Fantasy</td>\n",
       "    </tr>\n",
       "    <tr>\n",
       "      <th>99998</th>\n",
       "      <td>107771</td>\n",
       "      <td>Only Lovers Left Alive (2013)</td>\n",
       "      <td>Drama|Horror|Romance</td>\n",
       "      <td>Drama Horror Romance</td>\n",
       "    </tr>\n",
       "    <tr>\n",
       "      <th>99999</th>\n",
       "      <td>80617</td>\n",
       "      <td>Cats &amp; Dogs: The Revenge of Kitty Galore (2010)</td>\n",
       "      <td>Action|Children|Comedy</td>\n",
       "      <td>Action Children Comedy</td>\n",
       "    </tr>\n",
       "  </tbody>\n",
       "</table>\n",
       "<p>8384 rows × 4 columns</p>\n",
       "</div>"
      ],
      "text/plain": [
       "       movieId                                              title  \\\n",
       "0         2890                                 Three Kings (1999)   \n",
       "48        8368    Harry Potter and the Prisoner of Azkaban (2004)   \n",
       "109        923                                Citizen Kane (1941)   \n",
       "201       2059                            Parent Trap, The (1998)   \n",
       "219       1610                   Hunt for Red October, The (1990)   \n",
       "...        ...                                                ...   \n",
       "99995    94542  Forgiveness of Blood, The (Falja e gjakut) (2011)   \n",
       "99996    46640  Why Does Herr R. Run Amok? (Warum läuft Herr R...   \n",
       "99997     5182                             Hawk the Slayer (1980)   \n",
       "99998   107771                      Only Lovers Left Alive (2013)   \n",
       "99999    80617    Cats & Dogs: The Revenge of Kitty Galore (2010)   \n",
       "\n",
       "                                  genres                      full_metadata  \n",
       "0      Action|Adventure|Comedy|Drama|War  Action Adventure Comedy Drama War  \n",
       "48                Adventure|Fantasy|IMAX             Adventure Fantasy IMAX  \n",
       "109                        Drama|Mystery                      Drama Mystery  \n",
       "201              Children|Comedy|Romance            Children Comedy Romance  \n",
       "219            Action|Adventure|Thriller          Action Adventure Thriller  \n",
       "...                                  ...                                ...  \n",
       "99995                              Drama                              Drama  \n",
       "99996                              Drama                              Drama  \n",
       "99997                     Action|Fantasy                     Action Fantasy  \n",
       "99998               Drama|Horror|Romance               Drama Horror Romance  \n",
       "99999             Action|Children|Comedy             Action Children Comedy  \n",
       "\n",
       "[8384 rows x 4 columns]"
      ]
     },
     "execution_count": 15,
     "metadata": {},
     "output_type": "execute_result"
    }
   ],
   "source": [
    "movie_data_new['full_metadata'] = movie_data_new['genres'].str.split('|').apply(lambda genres: \" \".join(genres))\n",
    "\n",
    "movie_data_new"
   ]
  },
  {
   "attachments": {},
   "cell_type": "markdown",
   "id": "63f7216f",
   "metadata": {},
   "source": [
    "### TF-IDF on Metadata"
   ]
  },
  {
   "cell_type": "code",
   "execution_count": 45,
   "id": "44390186",
   "metadata": {},
   "outputs": [],
   "source": [
    "from sklearn.feature_extraction.text import TfidfVectorizer\n",
    "from sklearn.metrics.pairwise import linear_kernel"
   ]
  },
  {
   "cell_type": "code",
   "execution_count": 46,
   "id": "8002b786",
   "metadata": {},
   "outputs": [
    {
     "name": "stdout",
     "output_type": "stream",
     "text": [
      "(8399, 23)\n"
     ]
    }
   ],
   "source": [
    "#Extracting Stopword\n",
    "tfidf = TfidfVectorizer(stop_words='english')\n",
    "tfidf_matrix = tfidf.fit_transform(movie_data_new['full_metadata'])\n",
    "tfidf_df = pd.DataFrame(tfidf_matrix.toarray(), index=movie_data_new.index.tolist())\n",
    "print(tfidf_df.shape)"
   ]
  },
  {
   "cell_type": "code",
   "execution_count": 47,
   "id": "1a2c7472",
   "metadata": {},
   "outputs": [],
   "source": [
    "from sklearn.decomposition import TruncatedSVD\n",
    "svd = TruncatedSVD(n_components=22) # take 100% of features of genre\n",
    "latent_matrix = svd.fit_transform(tfidf_df)"
   ]
  },
  {
   "cell_type": "code",
   "execution_count": 48,
   "id": "59c411f4",
   "metadata": {},
   "outputs": [
    {
     "data": {
      "image/png": "[encoded data removed]",
      "text/plain": [
       "<Figure size 432x288 with 1 Axes>"
      ]
     },
     "metadata": {
      "needs_background": "light"
     },
     "output_type": "display_data"
    }
   ],
   "source": [
    "# plot var expalined to see what latent dimensions to use\n",
    "explained = svd.explained_variance_ratio_.cumsum()\n",
    "plt.plot(explained, '.-', ms = 16, color='red')\n",
    "plt.xlabel('Singular value components', fontsize= 12)\n",
    "plt.ylabel('Cumulative percent of variance', fontsize=12)        \n",
    "plt.show()"
   ]
  },
  {
   "cell_type": "code",
   "execution_count": 50,
   "id": "61e59a8b",
   "metadata": {},
   "outputs": [
    {
     "data": {
      "text/html": [
       "<div>\n",
       "<style scoped>\n",
       "    .dataframe tbody tr th:only-of-type {\n",
       "        vertical-align: middle;\n",
       "    }\n",
       "\n",
       "    .dataframe tbody tr th {\n",
       "        vertical-align: top;\n",
       "    }\n",
       "\n",
       "    .dataframe thead th {\n",
       "        text-align: right;\n",
       "    }\n",
       "</style>\n",
       "<table border=\"1\" class=\"dataframe\">\n",
       "  <thead>\n",
       "    <tr style=\"text-align: right;\">\n",
       "      <th></th>\n",
       "      <th>0</th>\n",
       "      <th>1</th>\n",
       "      <th>2</th>\n",
       "      <th>3</th>\n",
       "      <th>4</th>\n",
       "      <th>5</th>\n",
       "      <th>6</th>\n",
       "      <th>7</th>\n",
       "      <th>8</th>\n",
       "      <th>9</th>\n",
       "      <th>...</th>\n",
       "      <th>12</th>\n",
       "      <th>13</th>\n",
       "      <th>14</th>\n",
       "      <th>15</th>\n",
       "      <th>16</th>\n",
       "      <th>17</th>\n",
       "      <th>18</th>\n",
       "      <th>19</th>\n",
       "      <th>20</th>\n",
       "      <th>21</th>\n",
       "    </tr>\n",
       "  </thead>\n",
       "  <tbody>\n",
       "    <tr>\n",
       "      <th>Big Chill, The (1983)</th>\n",
       "      <td>0.880805</td>\n",
       "      <td>0.263147</td>\n",
       "      <td>-0.163847</td>\n",
       "      <td>-0.342419</td>\n",
       "      <td>0.023540</td>\n",
       "      <td>0.064782</td>\n",
       "      <td>0.037065</td>\n",
       "      <td>-0.013929</td>\n",
       "      <td>-0.049162</td>\n",
       "      <td>-0.025851</td>\n",
       "      <td>...</td>\n",
       "      <td>-0.006304</td>\n",
       "      <td>0.005090</td>\n",
       "      <td>-0.001117</td>\n",
       "      <td>-0.006886</td>\n",
       "      <td>0.010001</td>\n",
       "      <td>0.000676</td>\n",
       "      <td>0.002798</td>\n",
       "      <td>3.313012e-17</td>\n",
       "      <td>4.512786e-18</td>\n",
       "      <td>4.975510e-18</td>\n",
       "    </tr>\n",
       "    <tr>\n",
       "      <th>Outsiders, The (1983)</th>\n",
       "      <td>0.777753</td>\n",
       "      <td>-0.548877</td>\n",
       "      <td>-0.209051</td>\n",
       "      <td>-0.193620</td>\n",
       "      <td>0.081430</td>\n",
       "      <td>0.053544</td>\n",
       "      <td>0.005691</td>\n",
       "      <td>-0.006330</td>\n",
       "      <td>-0.002635</td>\n",
       "      <td>0.009675</td>\n",
       "      <td>...</td>\n",
       "      <td>0.004653</td>\n",
       "      <td>-0.002996</td>\n",
       "      <td>-0.009437</td>\n",
       "      <td>-0.004220</td>\n",
       "      <td>0.004607</td>\n",
       "      <td>-0.001963</td>\n",
       "      <td>0.000401</td>\n",
       "      <td>-5.607742e-19</td>\n",
       "      <td>5.251627e-19</td>\n",
       "      <td>2.173550e-18</td>\n",
       "    </tr>\n",
       "    <tr>\n",
       "      <th>2001: A Space Odyssey (1968)</th>\n",
       "      <td>0.300801</td>\n",
       "      <td>-0.134228</td>\n",
       "      <td>0.301929</td>\n",
       "      <td>0.066496</td>\n",
       "      <td>0.642891</td>\n",
       "      <td>0.161439</td>\n",
       "      <td>0.331611</td>\n",
       "      <td>-0.018568</td>\n",
       "      <td>0.299735</td>\n",
       "      <td>-0.114284</td>\n",
       "      <td>...</td>\n",
       "      <td>-0.267722</td>\n",
       "      <td>-0.098045</td>\n",
       "      <td>0.125266</td>\n",
       "      <td>-0.032672</td>\n",
       "      <td>-0.010059</td>\n",
       "      <td>-0.003475</td>\n",
       "      <td>-0.046937</td>\n",
       "      <td>-1.386545e-16</td>\n",
       "      <td>4.857226e-17</td>\n",
       "      <td>-2.775558e-17</td>\n",
       "    </tr>\n",
       "    <tr>\n",
       "      <th>Harry Potter and the Order of the Phoenix (2007)</th>\n",
       "      <td>0.242578</td>\n",
       "      <td>-0.102262</td>\n",
       "      <td>0.101203</td>\n",
       "      <td>0.024192</td>\n",
       "      <td>0.334675</td>\n",
       "      <td>-0.066281</td>\n",
       "      <td>-0.347034</td>\n",
       "      <td>-0.041440</td>\n",
       "      <td>0.179060</td>\n",
       "      <td>-0.051886</td>\n",
       "      <td>...</td>\n",
       "      <td>-0.086570</td>\n",
       "      <td>0.321625</td>\n",
       "      <td>0.186552</td>\n",
       "      <td>-0.017930</td>\n",
       "      <td>0.035775</td>\n",
       "      <td>-0.002797</td>\n",
       "      <td>0.664820</td>\n",
       "      <td>8.523876e-16</td>\n",
       "      <td>-3.648114e-17</td>\n",
       "      <td>3.136646e-17</td>\n",
       "    </tr>\n",
       "    <tr>\n",
       "      <th>Misery (1990)</th>\n",
       "      <td>0.411714</td>\n",
       "      <td>-0.264630</td>\n",
       "      <td>0.473481</td>\n",
       "      <td>-0.005170</td>\n",
       "      <td>-0.290013</td>\n",
       "      <td>0.584550</td>\n",
       "      <td>-0.239165</td>\n",
       "      <td>-0.009133</td>\n",
       "      <td>-0.109795</td>\n",
       "      <td>0.052343</td>\n",
       "      <td>...</td>\n",
       "      <td>-0.155871</td>\n",
       "      <td>-0.004914</td>\n",
       "      <td>-0.012038</td>\n",
       "      <td>-0.002853</td>\n",
       "      <td>0.005528</td>\n",
       "      <td>-0.000447</td>\n",
       "      <td>0.004644</td>\n",
       "      <td>-2.919742e-16</td>\n",
       "      <td>-4.520168e-17</td>\n",
       "      <td>-8.574124e-18</td>\n",
       "    </tr>\n",
       "    <tr>\n",
       "      <th>...</th>\n",
       "      <td>...</td>\n",
       "      <td>...</td>\n",
       "      <td>...</td>\n",
       "      <td>...</td>\n",
       "      <td>...</td>\n",
       "      <td>...</td>\n",
       "      <td>...</td>\n",
       "      <td>...</td>\n",
       "      <td>...</td>\n",
       "      <td>...</td>\n",
       "      <td>...</td>\n",
       "      <td>...</td>\n",
       "      <td>...</td>\n",
       "      <td>...</td>\n",
       "      <td>...</td>\n",
       "      <td>...</td>\n",
       "      <td>...</td>\n",
       "      <td>...</td>\n",
       "      <td>...</td>\n",
       "      <td>...</td>\n",
       "      <td>...</td>\n",
       "    </tr>\n",
       "    <tr>\n",
       "      <th>Passion in the Desert (1998)</th>\n",
       "      <td>0.432352</td>\n",
       "      <td>-0.239026</td>\n",
       "      <td>0.074279</td>\n",
       "      <td>-0.027860</td>\n",
       "      <td>0.409797</td>\n",
       "      <td>-0.123315</td>\n",
       "      <td>-0.328776</td>\n",
       "      <td>-0.043527</td>\n",
       "      <td>0.098724</td>\n",
       "      <td>-0.053668</td>\n",
       "      <td>...</td>\n",
       "      <td>-0.445446</td>\n",
       "      <td>-0.217977</td>\n",
       "      <td>0.205913</td>\n",
       "      <td>-0.073053</td>\n",
       "      <td>0.029483</td>\n",
       "      <td>-0.004308</td>\n",
       "      <td>-0.031759</td>\n",
       "      <td>-3.355989e-16</td>\n",
       "      <td>-6.051062e-17</td>\n",
       "      <td>-8.628217e-17</td>\n",
       "    </tr>\n",
       "    <tr>\n",
       "      <th>Assassination Tango (2002)</th>\n",
       "      <td>0.549129</td>\n",
       "      <td>-0.388069</td>\n",
       "      <td>0.380858</td>\n",
       "      <td>-0.049055</td>\n",
       "      <td>-0.272300</td>\n",
       "      <td>0.095984</td>\n",
       "      <td>-0.050712</td>\n",
       "      <td>-0.017311</td>\n",
       "      <td>-0.186388</td>\n",
       "      <td>-0.490693</td>\n",
       "      <td>...</td>\n",
       "      <td>-0.138290</td>\n",
       "      <td>0.069504</td>\n",
       "      <td>0.001471</td>\n",
       "      <td>0.005612</td>\n",
       "      <td>0.007648</td>\n",
       "      <td>-0.006610</td>\n",
       "      <td>0.000663</td>\n",
       "      <td>-1.268273e-16</td>\n",
       "      <td>-3.088518e-17</td>\n",
       "      <td>3.637701e-17</td>\n",
       "    </tr>\n",
       "    <tr>\n",
       "      <th>Front Page, The (1931)</th>\n",
       "      <td>0.819847</td>\n",
       "      <td>0.281258</td>\n",
       "      <td>-0.247194</td>\n",
       "      <td>0.420216</td>\n",
       "      <td>-0.065886</td>\n",
       "      <td>0.018265</td>\n",
       "      <td>0.045290</td>\n",
       "      <td>-0.002517</td>\n",
       "      <td>-0.026846</td>\n",
       "      <td>0.004654</td>\n",
       "      <td>...</td>\n",
       "      <td>-0.018748</td>\n",
       "      <td>-0.008771</td>\n",
       "      <td>-0.043843</td>\n",
       "      <td>-0.006483</td>\n",
       "      <td>0.004805</td>\n",
       "      <td>-0.000261</td>\n",
       "      <td>0.003315</td>\n",
       "      <td>-6.939849e-18</td>\n",
       "      <td>5.362014e-18</td>\n",
       "      <td>-1.001294e-17</td>\n",
       "    </tr>\n",
       "    <tr>\n",
       "      <th>Looker (1981)</th>\n",
       "      <td>0.322315</td>\n",
       "      <td>-0.174817</td>\n",
       "      <td>0.559492</td>\n",
       "      <td>0.071502</td>\n",
       "      <td>0.158491</td>\n",
       "      <td>0.616187</td>\n",
       "      <td>0.311746</td>\n",
       "      <td>0.000451</td>\n",
       "      <td>0.141347</td>\n",
       "      <td>-0.037993</td>\n",
       "      <td>...</td>\n",
       "      <td>-0.108633</td>\n",
       "      <td>0.025894</td>\n",
       "      <td>-0.006516</td>\n",
       "      <td>0.008013</td>\n",
       "      <td>-0.021192</td>\n",
       "      <td>-0.001118</td>\n",
       "      <td>-0.021997</td>\n",
       "      <td>-1.455184e-16</td>\n",
       "      <td>4.072724e-17</td>\n",
       "      <td>1.581860e-17</td>\n",
       "    </tr>\n",
       "    <tr>\n",
       "      <th>Maurice (1987)</th>\n",
       "      <td>0.657654</td>\n",
       "      <td>-0.176940</td>\n",
       "      <td>-0.268328</td>\n",
       "      <td>0.673915</td>\n",
       "      <td>-0.053675</td>\n",
       "      <td>-0.003162</td>\n",
       "      <td>0.025997</td>\n",
       "      <td>0.005105</td>\n",
       "      <td>0.007330</td>\n",
       "      <td>0.031889</td>\n",
       "      <td>...</td>\n",
       "      <td>-0.014455</td>\n",
       "      <td>-0.016126</td>\n",
       "      <td>-0.055827</td>\n",
       "      <td>-0.004237</td>\n",
       "      <td>-0.000096</td>\n",
       "      <td>-0.001909</td>\n",
       "      <td>0.001824</td>\n",
       "      <td>-3.571110e-17</td>\n",
       "      <td>2.896235e-18</td>\n",
       "      <td>-1.474190e-17</td>\n",
       "    </tr>\n",
       "  </tbody>\n",
       "</table>\n",
       "<p>8399 rows × 22 columns</p>\n",
       "</div>"
      ],
      "text/plain": [
       "                                                        0         1   \\\n",
       "Big Chill, The (1983)                             0.880805  0.263147   \n",
       "Outsiders, The (1983)                             0.777753 -0.548877   \n",
       "2001: A Space Odyssey (1968)                      0.300801 -0.134228   \n",
       "Harry Potter and the Order of the Phoenix (2007)  0.242578 -0.102262   \n",
       "Misery (1990)                                     0.411714 -0.264630   \n",
       "...                                                    ...       ...   \n",
       "Passion in the Desert (1998)                      0.432352 -0.239026   \n",
       "Assassination Tango (2002)                        0.549129 -0.388069   \n",
       "Front Page, The (1931)                            0.819847  0.281258   \n",
       "Looker (1981)                                     0.322315 -0.174817   \n",
       "Maurice (1987)                                    0.657654 -0.176940   \n",
       "\n",
       "                                                        2         3   \\\n",
       "Big Chill, The (1983)                            -0.163847 -0.342419   \n",
       "Outsiders, The (1983)                            -0.209051 -0.193620   \n",
       "2001: A Space Odyssey (1968)                      0.301929  0.066496   \n",
       "Harry Potter and the Order of the Phoenix (2007)  0.101203  0.024192   \n",
       "Misery (1990)                                     0.473481 -0.005170   \n",
       "...                                                    ...       ...   \n",
       "Passion in the Desert (1998)                      0.074279 -0.027860   \n",
       "Assassination Tango (2002)                        0.380858 -0.049055   \n",
       "Front Page, The (1931)                           -0.247194  0.420216   \n",
       "Looker (1981)                                     0.559492  0.071502   \n",
       "Maurice (1987)                                   -0.268328  0.673915   \n",
       "\n",
       "                                                        4         5   \\\n",
       "Big Chill, The (1983)                             0.023540  0.064782   \n",
       "Outsiders, The (1983)                             0.081430  0.053544   \n",
       "2001: A Space Odyssey (1968)                      0.642891  0.161439   \n",
       "Harry Potter and the Order of the Phoenix (2007)  0.334675 -0.066281   \n",
       "Misery (1990)                                    -0.290013  0.584550   \n",
       "...                                                    ...       ...   \n",
       "Passion in the Desert (1998)                      0.409797 -0.123315   \n",
       "Assassination Tango (2002)                       -0.272300  0.095984   \n",
       "Front Page, The (1931)                           -0.065886  0.018265   \n",
       "Looker (1981)                                     0.158491  0.616187   \n",
       "Maurice (1987)                                   -0.053675 -0.003162   \n",
       "\n",
       "                                                        6         7   \\\n",
       "Big Chill, The (1983)                             0.037065 -0.013929   \n",
       "Outsiders, The (1983)                             0.005691 -0.006330   \n",
       "2001: A Space Odyssey (1968)                      0.331611 -0.018568   \n",
       "Harry Potter and the Order of the Phoenix (2007) -0.347034 -0.041440   \n",
       "Misery (1990)                                    -0.239165 -0.009133   \n",
       "...                                                    ...       ...   \n",
       "Passion in the Desert (1998)                     -0.328776 -0.043527   \n",
       "Assassination Tango (2002)                       -0.050712 -0.017311   \n",
       "Front Page, The (1931)                            0.045290 -0.002517   \n",
       "Looker (1981)                                     0.311746  0.000451   \n",
       "Maurice (1987)                                    0.025997  0.005105   \n",
       "\n",
       "                                                        8         9   ...  \\\n",
       "Big Chill, The (1983)                            -0.049162 -0.025851  ...   \n",
       "Outsiders, The (1983)                            -0.002635  0.009675  ...   \n",
       "2001: A Space Odyssey (1968)                      0.299735 -0.114284  ...   \n",
       "Harry Potter and the Order of the Phoenix (2007)  0.179060 -0.051886  ...   \n",
       "Misery (1990)                                    -0.109795  0.052343  ...   \n",
       "...                                                    ...       ...  ...   \n",
       "Passion in the Desert (1998)                      0.098724 -0.053668  ...   \n",
       "Assassination Tango (2002)                       -0.186388 -0.490693  ...   \n",
       "Front Page, The (1931)                           -0.026846  0.004654  ...   \n",
       "Looker (1981)                                     0.141347 -0.037993  ...   \n",
       "Maurice (1987)                                    0.007330  0.031889  ...   \n",
       "\n",
       "                                                        12        13  \\\n",
       "Big Chill, The (1983)                            -0.006304  0.005090   \n",
       "Outsiders, The (1983)                             0.004653 -0.002996   \n",
       "2001: A Space Odyssey (1968)                     -0.267722 -0.098045   \n",
       "Harry Potter and the Order of the Phoenix (2007) -0.086570  0.321625   \n",
       "Misery (1990)                                    -0.155871 -0.004914   \n",
       "...                                                    ...       ...   \n",
       "Passion in the Desert (1998)                     -0.445446 -0.217977   \n",
       "Assassination Tango (2002)                       -0.138290  0.069504   \n",
       "Front Page, The (1931)                           -0.018748 -0.008771   \n",
       "Looker (1981)                                    -0.108633  0.025894   \n",
       "Maurice (1987)                                   -0.014455 -0.016126   \n",
       "\n",
       "                                                        14        15  \\\n",
       "Big Chill, The (1983)                            -0.001117 -0.006886   \n",
       "Outsiders, The (1983)                            -0.009437 -0.004220   \n",
       "2001: A Space Odyssey (1968)                      0.125266 -0.032672   \n",
       "Harry Potter and the Order of the Phoenix (2007)  0.186552 -0.017930   \n",
       "Misery (1990)                                    -0.012038 -0.002853   \n",
       "...                                                    ...       ...   \n",
       "Passion in the Desert (1998)                      0.205913 -0.073053   \n",
       "Assassination Tango (2002)                        0.001471  0.005612   \n",
       "Front Page, The (1931)                           -0.043843 -0.006483   \n",
       "Looker (1981)                                    -0.006516  0.008013   \n",
       "Maurice (1987)                                   -0.055827 -0.004237   \n",
       "\n",
       "                                                        16        17  \\\n",
       "Big Chill, The (1983)                             0.010001  0.000676   \n",
       "Outsiders, The (1983)                             0.004607 -0.001963   \n",
       "2001: A Space Odyssey (1968)                     -0.010059 -0.003475   \n",
       "Harry Potter and the Order of the Phoenix (2007)  0.035775 -0.002797   \n",
       "Misery (1990)                                     0.005528 -0.000447   \n",
       "...                                                    ...       ...   \n",
       "Passion in the Desert (1998)                      0.029483 -0.004308   \n",
       "Assassination Tango (2002)                        0.007648 -0.006610   \n",
       "Front Page, The (1931)                            0.004805 -0.000261   \n",
       "Looker (1981)                                    -0.021192 -0.001118   \n",
       "Maurice (1987)                                   -0.000096 -0.001909   \n",
       "\n",
       "                                                        18            19  \\\n",
       "Big Chill, The (1983)                             0.002798  3.313012e-17   \n",
       "Outsiders, The (1983)                             0.000401 -5.607742e-19   \n",
       "2001: A Space Odyssey (1968)                     -0.046937 -1.386545e-16   \n",
       "Harry Potter and the Order of the Phoenix (2007)  0.664820  8.523876e-16   \n",
       "Misery (1990)                                     0.004644 -2.919742e-16   \n",
       "...                                                    ...           ...   \n",
       "Passion in the Desert (1998)                     -0.031759 -3.355989e-16   \n",
       "Assassination Tango (2002)                        0.000663 -1.268273e-16   \n",
       "Front Page, The (1931)                            0.003315 -6.939849e-18   \n",
       "Looker (1981)                                    -0.021997 -1.455184e-16   \n",
       "Maurice (1987)                                    0.001824 -3.571110e-17   \n",
       "\n",
       "                                                            20            21  \n",
       "Big Chill, The (1983)                             4.512786e-18  4.975510e-18  \n",
       "Outsiders, The (1983)                             5.251627e-19  2.173550e-18  \n",
       "2001: A Space Odyssey (1968)                      4.857226e-17 -2.775558e-17  \n",
       "Harry Potter and the Order of the Phoenix (2007) -3.648114e-17  3.136646e-17  \n",
       "Misery (1990)                                    -4.520168e-17 -8.574124e-18  \n",
       "...                                                        ...           ...  \n",
       "Passion in the Desert (1998)                     -6.051062e-17 -8.628217e-17  \n",
       "Assassination Tango (2002)                       -3.088518e-17  3.637701e-17  \n",
       "Front Page, The (1931)                            5.362014e-18 -1.001294e-17  \n",
       "Looker (1981)                                     4.072724e-17  1.581860e-17  \n",
       "Maurice (1987)                                    2.896235e-18 -1.474190e-17  \n",
       "\n",
       "[8399 rows x 22 columns]"
      ]
     },
     "execution_count": 50,
     "metadata": {},
     "output_type": "execute_result"
    }
   ],
   "source": [
    "#get a table with 19 separated features of movies.\n",
    "n = 23\n",
    "latent_matrix_1_df = pd.DataFrame(latent_matrix[:,0:n], index=movie_data_new.title.tolist())\n",
    "latent_matrix_1_df"
   ]
  },
  {
   "attachments": {},
   "cell_type": "markdown",
   "id": "6d0e62ab",
   "metadata": {},
   "source": [
    "### Collaborative"
   ]
  },
  {
   "cell_type": "code",
   "execution_count": 21,
   "id": "68e1919d",
   "metadata": {},
   "outputs": [],
   "source": [
    "from sklearn.decomposition import TruncatedSVD\n",
    "svd = TruncatedSVD(n_components=5000) #split 52518 users into 10000 users\n",
    "latent_matrix_2 = svd.fit_transform(user_movies_data)"
   ]
  },
  {
   "cell_type": "code",
   "execution_count": 29,
   "id": "0238f505",
   "metadata": {},
   "outputs": [],
   "source": [
    "latent_matrix_2_df = pd.DataFrame(latent_matrix_2, index=movie_data_new.title.tolist())"
   ]
  },
  {
   "cell_type": "code",
   "execution_count": 31,
   "id": "618a03fd",
   "metadata": {},
   "outputs": [
    {
     "data": {
      "image/png": "[encoded data removed]",
      "text/plain": [
       "<Figure size 432x288 with 1 Axes>"
      ]
     },
     "metadata": {
      "needs_background": "light"
     },
     "output_type": "display_data"
    }
   ],
   "source": [
    "# plot variance expalined to see what latent dimensions to use\n",
    "explained = svd.explained_variance_ratio_.cumsum()\n",
    "plt.plot(explained, '.-', ms = 16, color='red')\n",
    "plt.xlabel('Singular value components', fontsize= 12)\n",
    "plt.ylabel('Cumulative percent of variance', fontsize=12)        \n",
    "plt.show()\n"
   ]
  },
  {
   "cell_type": "code",
   "execution_count": 51,
   "id": "b196381a",
   "metadata": {},
   "outputs": [
    {
     "name": "stdout",
     "output_type": "stream",
     "text": [
      "                                                     content  collaborative  \\\n",
      "Hobbit: The Desolation of Smaug, The (2013)         0.970805   1.558466e-04   \n",
      "Hobbit: An Unexpected Journey, The (2012)           0.970805   5.291452e-05   \n",
      "Jack the Giant Slayer (2013)                        0.970805   3.611621e-05   \n",
      "Harry Potter and the Prisoner of Azkaban (2004)     0.970805  -5.313727e-07   \n",
      "Alice in Wonderland (2010)                          0.970805  -2.939508e-06   \n",
      "Thor (2011)                                         0.932782  -1.766986e-05   \n",
      "Harry Potter and the Goblet of Fire (2005)          0.908597   4.660415e-07   \n",
      "Harry Potter and the Deathly Hallows: Part 1 (2...  0.901980   5.569088e-05   \n",
      "Oz the Great and Powerful (2013)                    0.901980   5.438526e-06   \n",
      "Thor: The Dark World (2013)                         0.901980  -5.448330e-05   \n",
      "Pirates of the Caribbean: On Stranger Tides (2011)  0.901980  -5.992222e-05   \n",
      "\n",
      "                                                      hybrid  \n",
      "Hobbit: The Desolation of Smaug, The (2013)         0.485480  \n",
      "Hobbit: An Unexpected Journey, The (2012)           0.485429  \n",
      "Jack the Giant Slayer (2013)                        0.485421  \n",
      "Harry Potter and the Prisoner of Azkaban (2004)     0.485402  \n",
      "Alice in Wonderland (2010)                          0.485401  \n",
      "Thor (2011)                                         0.466382  \n",
      "Harry Potter and the Goblet of Fire (2005)          0.454299  \n",
      "Harry Potter and the Deathly Hallows: Part 1 (2...  0.451018  \n",
      "Oz the Great and Powerful (2013)                    0.450993  \n",
      "Thor: The Dark World (2013)                         0.450963  \n",
      "Pirates of the Caribbean: On Stranger Tides (2011)  0.450960  \n"
     ]
    }
   ],
   "source": [
    "from sklearn.metrics.pairwise import cosine_similarity\n",
    "\n",
    "a_1 = np.array(latent_matrix_1_df.loc[\"Harry Potter and the Order of the Phoenix (2007)\"]).reshape(1, -1)\n",
    "a_2 = np.array(latent_matrix_2_df.loc[\"Harry Potter and the Order of the Phoenix (2007)\"]).reshape(1, -1)\n",
    "\n",
    "# calculate the similartity of this movie with the others in the list\n",
    "score_1 = cosine_similarity(latent_matrix_1_df, a_1).reshape(-1)\n",
    "score_2 = cosine_similarity(latent_matrix_2_df, a_2).reshape(-1)\n",
    "\n",
    "# an average measure of both content and collaborative \n",
    "hybrid = ((score_1 + score_2)/2.0)\n",
    "\n",
    "# form a data frame of similar movies \n",
    "dictDf = {'content': score_1 , 'collaborative': score_2, 'hybrid': hybrid}\n",
    "similar = pd.DataFrame(dictDf, index = latent_matrix_2_df.index)\n",
    "\n",
    "#sort it on the basis of either: content, collaborative or hybrid\n",
    "similar.sort_values('hybrid', ascending=False, inplace=True)\n",
    "\n",
    "print(similar[1:].head(11))"
   ]
  },
  {
   "cell_type": "code",
   "execution_count": 52,
   "id": "18a75e03",
   "metadata": {},
   "outputs": [],
   "source": [
    "from sklearn.metrics.pairwise import cosine_similarity\n",
    "def recommend_similar_movies(title):\n",
    "    # take the latent vectors for a selected movie from both content \n",
    "    # and collaborative matrixes\n",
    "    a_1 = np.array(latent_matrix_1_df.loc[title]).reshape(1, -1)\n",
    "    a_2 = np.array(latent_matrix_2_df.loc[title]).reshape(1, -1)\n",
    "\n",
    "    # calculate the similartity of this movie with the others in the list\n",
    "    score_1 = cosine_similarity(latent_matrix_1_df, a_1).reshape(-1)\n",
    "    score_2 = cosine_similarity(latent_matrix_2_df, a_2).reshape(-1)\n",
    "\n",
    "    # an average measure of both content and collaborative \n",
    "    hybrid = ((score_1 + score_2)/2.0)\n",
    "\n",
    "    # form a data frame of similar movies \n",
    "    dictDf = {'content': score_1 , 'collaborative': score_2, 'hybrid': hybrid} \n",
    "    similar = pd.DataFrame(dictDf, index = latent_matrix_2_df.index )\n",
    "\n",
    "    #sort it on the basis of either: content, collaborative or hybrid\n",
    "    similar.sort_values('hybrid', ascending=False, inplace=True)\n",
    "\n",
    "    print(similar[1:].head(11))"
   ]
  },
  {
   "cell_type": "code",
   "execution_count": 53,
   "id": "4a24ff21",
   "metadata": {},
   "outputs": [
    {
     "name": "stdout",
     "output_type": "stream",
     "text": [
      "                                             content  collaborative    hybrid\n",
      "In Hell (2003)                              0.355291       0.853725  0.604508\n",
      "Puppet Master III: Toulon's Revenge (1991)  0.965531       0.059472  0.512502\n",
      "Fly, The (1986)                             1.000000       0.000034  0.500017\n",
      "Dreamcatcher (2003)                         1.000000      -0.000078  0.499961\n",
      "Splice (2009)                               0.965531       0.012607  0.489069\n",
      "Stay Alive (2006)                           0.965531       0.008162  0.486847\n",
      "Invasion of the Body Snatchers (1956)       0.965531       0.005593  0.485562\n",
      "Flatliners (1990)                           0.965531       0.005012  0.485271\n",
      "Dreamscape (1984)                           0.965531       0.002150  0.483840\n",
      "Mimic (1997)                                0.965531       0.001818  0.483674\n",
      "Jason X (2002)                              0.965531       0.000779  0.483155\n"
     ]
    }
   ],
   "source": [
    "recommend_similar_movies(\"Looker (1981)\")"
   ]
  },
  {
   "cell_type": "code",
   "execution_count": 56,
   "id": "d5009790",
   "metadata": {},
   "outputs": [
    {
     "name": "stdout",
     "output_type": "stream",
     "text": [
      "                                   content  collaborative    hybrid\n",
      "Walk on the Moon, A (1999)             1.0       0.010696  0.505348\n",
      "Patch of Blue, A (1965)                1.0       0.000148  0.500074\n",
      "Dodsworth (1936)                       1.0       0.000108  0.500054\n",
      "South, The (Sur, El) (1983)            1.0       0.000107  0.500054\n",
      "Betty Blue (37°2 le matin) (1986)      1.0       0.000107  0.500053\n",
      "Last Tycoon, The (1976)                1.0       0.000052  0.500026\n",
      "Guinevere (1999)                       1.0       0.000048  0.500024\n",
      "Jane Eyre (2011)                       1.0       0.000048  0.500024\n",
      "My Life Without Me (2003)              1.0       0.000045  0.500022\n",
      "Penny Serenade (1941)                  1.0       0.000041  0.500021\n",
      "Head-On (Gegen die Wand) (2004)        1.0       0.000037  0.500019\n"
     ]
    }
   ],
   "source": [
    "recommend_similar_movies(\"William Shakespeare's Romeo + Juliet (1996)\")"
   ]
  },
  {
   "cell_type": "code",
   "execution_count": 59,
   "id": "217aa615",
   "metadata": {},
   "outputs": [
    {
     "name": "stdout",
     "output_type": "stream",
     "text": [
      "                                                     content  collaborative  \\\n",
      "Dark Knight, The (2008)                             0.967158       0.000067   \n",
      "Eagle Eye (2008)                                    0.928391       0.009718   \n",
      "Fast & Furious 6 (Fast and the Furious 6, The) ...  0.928391      -0.000309   \n",
      "Good Day to Die Hard, A (2013)                      0.928391      -0.008945   \n",
      "Dark Knight Rises, The (2012)                       0.902186       0.008201   \n",
      "Man of Tai Chi (2013)                               0.880907      -0.007631   \n",
      "Night at the Museum: Battle of the Smithsonian ...  0.831372       0.036571   \n",
      "Fast Five (Fast and the Furious 5, The) (2011)      0.901933      -0.066716   \n",
      "RoboCop (2014)                                      0.807691      -0.001357   \n",
      "Green Hornet, The (2011)                            0.800284       0.002397   \n",
      "Mortal Instruments: City of Bones, The (2013)       0.748907       0.032119   \n",
      "\n",
      "                                                      hybrid  \n",
      "Dark Knight, The (2008)                             0.483613  \n",
      "Eagle Eye (2008)                                    0.469055  \n",
      "Fast & Furious 6 (Fast and the Furious 6, The) ...  0.464041  \n",
      "Good Day to Die Hard, A (2013)                      0.459723  \n",
      "Dark Knight Rises, The (2012)                       0.455194  \n",
      "Man of Tai Chi (2013)                               0.436638  \n",
      "Night at the Museum: Battle of the Smithsonian ...  0.433971  \n",
      "Fast Five (Fast and the Furious 5, The) (2011)      0.417609  \n",
      "RoboCop (2014)                                      0.403167  \n",
      "Green Hornet, The (2011)                            0.401341  \n",
      "Mortal Instruments: City of Bones, The (2013)       0.390513  \n"
     ]
    }
   ],
   "source": [
    "recommend_similar_movies(\"Batman Begins (2005)\")"
   ]
  },
  {
   "attachments": {},
   "cell_type": "markdown",
   "id": "0758cdcf",
   "metadata": {},
   "source": [
    "# Surprise"
   ]
  },
  {
   "cell_type": "code",
   "execution_count": 17,
   "id": "6636002e",
   "metadata": {},
   "outputs": [
    {
     "name": "stdout",
     "output_type": "stream",
     "text": [
      "Collecting surprise\n",
      "  Using cached surprise-0.1-py2.py3-none-any.whl (1.8 kB)\n",
      "Collecting scikit-surprise\n",
      "  Downloading scikit-surprise-1.1.1.tar.gz (11.8 MB)\n",
      "     |████████████████████████████████| 11.8 MB 4.6 MB/s            \n",
      "\u001b[?25h  Preparing metadata (setup.py) ... \u001b[?25ldone\n",
      "\u001b[?25hRequirement already satisfied: joblib>=0.11 in /Library/Frameworks/Python.framework/Versions/3.6/lib/python3.6/site-packages (from scikit-surprise->surprise) (1.1.1)\n",
      "Requirement already satisfied: numpy>=1.11.2 in /Library/Frameworks/Python.framework/Versions/3.6/lib/python3.6/site-packages (from scikit-surprise->surprise) (1.19.5)\n",
      "Requirement already satisfied: scipy>=1.0.0 in /Library/Frameworks/Python.framework/Versions/3.6/lib/python3.6/site-packages (from scikit-surprise->surprise) (1.5.4)\n",
      "Requirement already satisfied: six>=1.10.0 in /Users/hau.nguyen2904/Library/Python/3.6/lib/python/site-packages (from scikit-surprise->surprise) (1.16.0)\n",
      "Using legacy 'setup.py install' for scikit-surprise, since package 'wheel' is not installed.\n",
      "Installing collected packages: scikit-surprise, surprise\n",
      "    Running setup.py install for scikit-surprise ... \u001b[?25ldone\n",
      "\u001b[?25hSuccessfully installed scikit-surprise-1.1.1 surprise-0.1\n",
      "Note: you may need to restart the kernel to use updated packages.\n"
     ]
    }
   ],
   "source": [
    "# pip install surprise"
   ]
  },
  {
   "cell_type": "code",
   "execution_count": 18,
   "id": "8a20a543",
   "metadata": {},
   "outputs": [],
   "source": [
    "from surprise import Dataset, Reader, SVD, accuracy\n",
    "from surprise.model_selection import train_test_split"
   ]
  },
  {
   "cell_type": "code",
   "execution_count": 23,
   "id": "480655b7",
   "metadata": {},
   "outputs": [],
   "source": [
    "Mapping_file = dict(zip(movie_data_new.title.tolist(), movie_data_new.movieId.tolist()))"
   ]
  },
  {
   "cell_type": "code",
   "execution_count": 22,
   "id": "70a75c7f",
   "metadata": {},
   "outputs": [
    {
     "name": "stdout",
     "output_type": "stream",
     "text": [
      "RMSE: 0.9549\n"
     ]
    },
    {
     "data": {
      "text/plain": [
       "0.9548759470847664"
      ]
     },
     "execution_count": 22,
     "metadata": {},
     "output_type": "execute_result"
    }
   ],
   "source": [
    "# instantiate a reader and read in our rating data\n",
    "reader = Reader(rating_scale=(1, 5))\n",
    "data = Dataset.load_from_df(ratingsNew[['userId','movieId','rating']], reader)\n",
    "\n",
    "# train SVD on 75% of known rates\n",
    "trainset, testset = train_test_split(data, test_size=.25)\n",
    "algorithm = SVD()\n",
    "algorithm.fit(trainset)\n",
    "predictions = algorithm.test(testset)\n",
    "\n",
    "# check the accuracy using Root Mean Square Error\n",
    "accuracy.rmse(predictions)"
   ]
  },
  {
   "cell_type": "code",
   "execution_count": 24,
   "id": "7ab89b01",
   "metadata": {},
   "outputs": [],
   "source": [
    "def pred_user_rating(ui):\n",
    "    if ui in ratingsNew.userId.unique():\n",
    "        ui_list = ratingsNew[ratingsNew.userId == ui].movieId.tolist()\n",
    "        d = {k: v for k,v in Mapping_file.items() if not v in ui_list}        \n",
    "        predictedL = []\n",
    "        for i, j in d.items():     \n",
    "            predicted = algorithm.predict(ui, j)\n",
    "            predictedL.append((i, predicted[3])) \n",
    "        pdf = pd.DataFrame(predictedL, columns = ['movies', 'ratings'])\n",
    "        pdf.sort_values('ratings', ascending=False, inplace=True)  \n",
    "        pdf.set_index('movies', inplace=True)    \n",
    "        return pdf.head(10)        \n",
    "    else:\n",
    "        print(\"User Id does not exist in the list!\")\n",
    "        return None"
   ]
  },
  {
   "cell_type": "code",
   "execution_count": 25,
   "id": "88c3aa1d",
   "metadata": {},
   "outputs": [
    {
     "data": {
      "text/html": [
       "<div>\n",
       "<style scoped>\n",
       "    .dataframe tbody tr th:only-of-type {\n",
       "        vertical-align: middle;\n",
       "    }\n",
       "\n",
       "    .dataframe tbody tr th {\n",
       "        vertical-align: top;\n",
       "    }\n",
       "\n",
       "    .dataframe thead th {\n",
       "        text-align: right;\n",
       "    }\n",
       "</style>\n",
       "<table border=\"1\" class=\"dataframe\">\n",
       "  <thead>\n",
       "    <tr style=\"text-align: right;\">\n",
       "      <th></th>\n",
       "      <th>ratings</th>\n",
       "    </tr>\n",
       "    <tr>\n",
       "      <th>movies</th>\n",
       "      <th></th>\n",
       "    </tr>\n",
       "  </thead>\n",
       "  <tbody>\n",
       "    <tr>\n",
       "      <th>On the Waterfront (1954)</th>\n",
       "      <td>4.622080</td>\n",
       "    </tr>\n",
       "    <tr>\n",
       "      <th>Memento (2000)</th>\n",
       "      <td>4.550471</td>\n",
       "    </tr>\n",
       "    <tr>\n",
       "      <th>Casablanca (1942)</th>\n",
       "      <td>4.549580</td>\n",
       "    </tr>\n",
       "    <tr>\n",
       "      <th>Spirited Away (Sen to Chihiro no kamikakushi) (2001)</th>\n",
       "      <td>4.497891</td>\n",
       "    </tr>\n",
       "    <tr>\n",
       "      <th>Bonnie and Clyde (1967)</th>\n",
       "      <td>4.450918</td>\n",
       "    </tr>\n",
       "    <tr>\n",
       "      <th>Maltese Falcon, The (1941)</th>\n",
       "      <td>4.429600</td>\n",
       "    </tr>\n",
       "    <tr>\n",
       "      <th>Taxi Driver (1976)</th>\n",
       "      <td>4.402652</td>\n",
       "    </tr>\n",
       "    <tr>\n",
       "      <th>Rear Window (1954)</th>\n",
       "      <td>4.396483</td>\n",
       "    </tr>\n",
       "    <tr>\n",
       "      <th>Wallace &amp; Gromit: A Close Shave (1995)</th>\n",
       "      <td>4.376240</td>\n",
       "    </tr>\n",
       "    <tr>\n",
       "      <th>Godfather: Part II, The (1974)</th>\n",
       "      <td>4.370234</td>\n",
       "    </tr>\n",
       "  </tbody>\n",
       "</table>\n",
       "</div>"
      ],
      "text/plain": [
       "                                                     ratings\n",
       "movies                                                      \n",
       "On the Waterfront (1954)                            4.622080\n",
       "Memento (2000)                                      4.550471\n",
       "Casablanca (1942)                                   4.549580\n",
       "Spirited Away (Sen to Chihiro no kamikakushi) (...  4.497891\n",
       "Bonnie and Clyde (1967)                             4.450918\n",
       "Maltese Falcon, The (1941)                          4.429600\n",
       "Taxi Driver (1976)                                  4.402652\n",
       "Rear Window (1954)                                  4.396483\n",
       "Wallace & Gromit: A Close Shave (1995)              4.376240\n",
       "Godfather: Part II, The (1974)                      4.370234"
      ]
     },
     "execution_count": 25,
     "metadata": {},
     "output_type": "execute_result"
    }
   ],
   "source": [
    "pred_user_rating(1)"
   ]
  },
  {
   "cell_type": "code",
   "execution_count": 32,
   "id": "17f53900",
   "metadata": {},
   "outputs": [
    {
     "name": "stdout",
     "output_type": "stream",
     "text": [
      "User Id does not exist in the list!\n"
     ]
    }
   ],
   "source": [
    "pred_user_rating(20)"
   ]
  },
  {
   "cell_type": "code",
   "execution_count": 31,
   "id": "d727369c",
   "metadata": {},
   "outputs": [
    {
     "data": {
      "text/html": [
       "<div>\n",
       "<style scoped>\n",
       "    .dataframe tbody tr th:only-of-type {\n",
       "        vertical-align: middle;\n",
       "    }\n",
       "\n",
       "    .dataframe tbody tr th {\n",
       "        vertical-align: top;\n",
       "    }\n",
       "\n",
       "    .dataframe thead th {\n",
       "        text-align: right;\n",
       "    }\n",
       "</style>\n",
       "<table border=\"1\" class=\"dataframe\">\n",
       "  <thead>\n",
       "    <tr style=\"text-align: right;\">\n",
       "      <th></th>\n",
       "      <th>ratings</th>\n",
       "    </tr>\n",
       "    <tr>\n",
       "      <th>movies</th>\n",
       "      <th></th>\n",
       "    </tr>\n",
       "  </thead>\n",
       "  <tbody>\n",
       "    <tr>\n",
       "      <th>Casablanca (1942)</th>\n",
       "      <td>4.471126</td>\n",
       "    </tr>\n",
       "    <tr>\n",
       "      <th>Godfather, The (1972)</th>\n",
       "      <td>4.464131</td>\n",
       "    </tr>\n",
       "    <tr>\n",
       "      <th>How to Train Your Dragon (2010)</th>\n",
       "      <td>4.332031</td>\n",
       "    </tr>\n",
       "    <tr>\n",
       "      <th>Life Is Beautiful (La Vita è bella) (1997)</th>\n",
       "      <td>4.279147</td>\n",
       "    </tr>\n",
       "    <tr>\n",
       "      <th>On the Waterfront (1954)</th>\n",
       "      <td>4.277590</td>\n",
       "    </tr>\n",
       "    <tr>\n",
       "      <th>Wallace &amp; Gromit: The Wrong Trousers (1993)</th>\n",
       "      <td>4.274884</td>\n",
       "    </tr>\n",
       "    <tr>\n",
       "      <th>American History X (1998)</th>\n",
       "      <td>4.266233</td>\n",
       "    </tr>\n",
       "    <tr>\n",
       "      <th>Schindler's List (1993)</th>\n",
       "      <td>4.246176</td>\n",
       "    </tr>\n",
       "    <tr>\n",
       "      <th>Braveheart (1995)</th>\n",
       "      <td>4.244018</td>\n",
       "    </tr>\n",
       "    <tr>\n",
       "      <th>Maltese Falcon, The (1941)</th>\n",
       "      <td>4.238917</td>\n",
       "    </tr>\n",
       "  </tbody>\n",
       "</table>\n",
       "</div>"
      ],
      "text/plain": [
       "                                              ratings\n",
       "movies                                               \n",
       "Casablanca (1942)                            4.471126\n",
       "Godfather, The (1972)                        4.464131\n",
       "How to Train Your Dragon (2010)              4.332031\n",
       "Life Is Beautiful (La Vita è bella) (1997)   4.279147\n",
       "On the Waterfront (1954)                     4.277590\n",
       "Wallace & Gromit: The Wrong Trousers (1993)  4.274884\n",
       "American History X (1998)                    4.266233\n",
       "Schindler's List (1993)                      4.246176\n",
       "Braveheart (1995)                            4.244018\n",
       "Maltese Falcon, The (1941)                   4.238917"
      ]
     },
     "execution_count": 31,
     "metadata": {},
     "output_type": "execute_result"
    }
   ],
   "source": [
    "pred_user_rating(632)"
   ]
  },
  {
   "cell_type": "code",
   "execution_count": 33,
   "id": "d59751d0",
   "metadata": {},
   "outputs": [
    {
     "name": "stdout",
     "output_type": "stream",
     "text": [
      "Collecting turicreate\n",
      "  Downloading turicreate-6.4.1-cp36-cp36m-macosx_10_12_intel.macosx_10_12_x86_64.macosx_10_13_intel.macosx_10_13_x86_64.macosx_10_14_intel.macosx_10_14_x86_64.whl (33.3 MB)\n",
      "     |████████████████████████████████| 33.3 MB 17.5 MB/s            \n",
      "\u001b[?25hRequirement already satisfied: pillow>=5.2.0 in /Library/Frameworks/Python.framework/Versions/3.6/lib/python3.6/site-packages (from turicreate) (8.4.0)\n",
      "Collecting requests>=2.9.1\n",
      "  Downloading requests-2.27.1-py2.py3-none-any.whl (63 kB)\n",
      "     |████████████████████████████████| 63 kB 7.0 MB/s             \n",
      "\u001b[?25hCollecting resampy==0.2.1\n",
      "  Downloading resampy-0.2.1.tar.gz (322 kB)\n",
      "     |████████████████████████████████| 322 kB 18.2 MB/s            \n",
      "\u001b[?25h  Preparing metadata (setup.py) ... \u001b[?25ldone\n",
      "\u001b[?25hRequirement already satisfied: scipy>=1.1.0 in /Library/Frameworks/Python.framework/Versions/3.6/lib/python3.6/site-packages (from turicreate) (1.5.4)\n",
      "Collecting prettytable==0.7.2\n",
      "  Downloading prettytable-0.7.2.zip (28 kB)\n",
      "  Preparing metadata (setup.py) ... \u001b[?25ldone\n",
      "\u001b[?25hRequirement already satisfied: six>=1.10.0 in /Users/hau.nguyen2904/Library/Python/3.6/lib/python/site-packages (from turicreate) (1.16.0)\n",
      "Requirement already satisfied: decorator>=4.0.9 in /Users/hau.nguyen2904/Library/Python/3.6/lib/python/site-packages (from turicreate) (5.1.1)\n",
      "Requirement already satisfied: numpy in /Library/Frameworks/Python.framework/Versions/3.6/lib/python3.6/site-packages (from turicreate) (1.19.5)\n",
      "Collecting coremltools==3.3\n",
      "  Downloading coremltools-3.3-cp36-none-macosx_10_15_intel.whl (3.5 MB)\n",
      "     |████████████████████████████████| 3.5 MB 6.7 MB/s            \n",
      "\u001b[?25hRequirement already satisfied: pandas>=0.23.2 in /Library/Frameworks/Python.framework/Versions/3.6/lib/python3.6/site-packages (from turicreate) (1.1.5)\n",
      "Collecting tensorflow>=2.0.0\n",
      "  Downloading tensorflow-2.6.2-cp36-cp36m-macosx_10_11_x86_64.whl (198.9 MB)\n",
      "     |████████████████████████████████| 198.9 MB 31.3 MB/s            \n",
      "\u001b[?25hCollecting protobuf>=3.1.0\n",
      "  Downloading protobuf-3.19.6-cp36-cp36m-macosx_10_9_x86_64.whl (979 kB)\n",
      "     |████████████████████████████████| 979 kB 99.0 MB/s            \n",
      "\u001b[?25hCollecting numba>=0.32\n",
      "  Downloading numba-0.53.1-cp36-cp36m-macosx_10_14_x86_64.whl (2.2 MB)\n",
      "     |████████████████████████████████| 2.2 MB 57.2 MB/s            \n",
      "\u001b[?25hRequirement already satisfied: pytz>=2017.2 in /Library/Frameworks/Python.framework/Versions/3.6/lib/python3.6/site-packages (from pandas>=0.23.2->turicreate) (2023.3.post1)\n",
      "Requirement already satisfied: python-dateutil>=2.7.3 in /Users/hau.nguyen2904/Library/Python/3.6/lib/python/site-packages (from pandas>=0.23.2->turicreate) (2.8.2)\n",
      "Collecting idna<4,>=2.5\n",
      "  Using cached idna-3.4-py3-none-any.whl (61 kB)\n",
      "Collecting charset-normalizer~=2.0.0\n",
      "  Downloading charset_normalizer-2.0.12-py3-none-any.whl (39 kB)\n",
      "Collecting certifi>=2017.4.17\n",
      "  Downloading certifi-2023.11.17-py3-none-any.whl (162 kB)\n",
      "     |████████████████████████████████| 162 kB 119.5 MB/s            \n",
      "\u001b[?25hCollecting urllib3<1.27,>=1.21.1\n",
      "  Downloading urllib3-1.26.18-py2.py3-none-any.whl (143 kB)\n",
      "     |████████████████████████████████| 143 kB 22.2 MB/s            \n",
      "\u001b[?25hCollecting h5py~=3.1.0\n",
      "  Downloading h5py-3.1.0-cp36-cp36m-macosx_10_9_x86_64.whl (2.9 MB)\n",
      "     |████████████████████████████████| 2.9 MB 42.8 MB/s            \n",
      "\u001b[?25hCollecting typing-extensions~=3.7.4\n",
      "  Downloading typing_extensions-3.7.4.3-py3-none-any.whl (22 kB)\n",
      "Collecting absl-py~=0.10\n",
      "  Downloading absl_py-0.15.0-py3-none-any.whl (132 kB)\n",
      "     |████████████████████████████████| 132 kB 2.7 MB/s             \n",
      "\u001b[?25hCollecting wheel~=0.35\n",
      "  Downloading wheel-0.37.1-py2.py3-none-any.whl (35 kB)\n",
      "Collecting grpcio<2.0,>=1.37.0\n",
      "  Downloading grpcio-1.48.2-cp36-cp36m-macosx_10_10_x86_64.whl (4.4 MB)\n",
      "     |████████████████████████████████| 4.4 MB 92.8 MB/s            \n",
      "\u001b[?25hCollecting tensorflow-estimator<2.7,>=2.6.0\n",
      "  Downloading tensorflow_estimator-2.6.0-py2.py3-none-any.whl (462 kB)\n",
      "     |████████████████████████████████| 462 kB 66.6 MB/s            \n",
      "\u001b[?25hCollecting termcolor~=1.1.0\n",
      "  Downloading termcolor-1.1.0.tar.gz (3.9 kB)\n",
      "  Preparing metadata (setup.py) ... \u001b[?25ldone\n",
      "\u001b[?25hCollecting wrapt~=1.12.1\n",
      "  Downloading wrapt-1.12.1.tar.gz (27 kB)\n",
      "  Preparing metadata (setup.py) ... \u001b[?25ldone\n",
      "\u001b[?25hCollecting keras<2.7,>=2.6.0\n",
      "  Downloading keras-2.6.0-py2.py3-none-any.whl (1.3 MB)\n",
      "     |████████████████████████████████| 1.3 MB 50.4 MB/s            \n",
      "\u001b[?25hCollecting astunparse~=1.6.3\n",
      "  Downloading astunparse-1.6.3-py2.py3-none-any.whl (12 kB)\n",
      "Collecting keras-preprocessing~=1.1.2\n",
      "  Downloading Keras_Preprocessing-1.1.2-py2.py3-none-any.whl (42 kB)\n",
      "     |████████████████████████████████| 42 kB 7.6 MB/s             \n",
      "\u001b[?25hCollecting opt-einsum~=3.3.0\n",
      "  Downloading opt_einsum-3.3.0-py3-none-any.whl (65 kB)\n",
      "     |████████████████████████████████| 65 kB 18.8 MB/s            \n",
      "\u001b[?25hCollecting google-pasta~=0.2\n",
      "  Downloading google_pasta-0.2.0-py3-none-any.whl (57 kB)\n",
      "     |████████████████████████████████| 57 kB 23.4 MB/s            \n",
      "\u001b[?25hCollecting clang~=5.0\n",
      "  Downloading clang-5.0.tar.gz (30 kB)\n",
      "  Preparing metadata (setup.py) ... \u001b[?25ldone\n",
      "\u001b[?25hCollecting flatbuffers~=1.12.0\n",
      "  Downloading flatbuffers-1.12-py2.py3-none-any.whl (15 kB)\n",
      "Collecting gast==0.4.0\n",
      "  Downloading gast-0.4.0-py3-none-any.whl (9.8 kB)\n",
      "Collecting six>=1.10.0\n",
      "  Downloading six-1.15.0-py2.py3-none-any.whl (10 kB)\n",
      "Collecting tensorboard<2.7,>=2.6.0\n",
      "  Downloading tensorboard-2.6.0-py3-none-any.whl (5.6 MB)\n",
      "     |████████████████████████████████| 5.6 MB 52.8 MB/s            \n",
      "\u001b[?25hCollecting cached-property\n",
      "  Downloading cached_property-1.5.2-py2.py3-none-any.whl (7.6 kB)\n",
      "Collecting llvmlite<0.37,>=0.36.0rc1\n",
      "  Downloading llvmlite-0.36.0-cp36-cp36m-macosx_10_9_x86_64.whl (18.5 MB)\n",
      "     |████████████████████████████████| 18.5 MB 55.8 MB/s            \n",
      "\u001b[?25hRequirement already satisfied: setuptools in /Library/Frameworks/Python.framework/Versions/3.6/lib/python3.6/site-packages (from numba>=0.32->resampy==0.2.1->turicreate) (40.6.2)\n",
      "Collecting tensorboard-plugin-wit>=1.6.0\n",
      "  Downloading tensorboard_plugin_wit-1.8.1-py3-none-any.whl (781 kB)\n",
      "     |████████████████████████████████| 781 kB 44.6 MB/s            \n",
      "\u001b[?25hCollecting markdown>=2.6.8\n",
      "  Downloading Markdown-3.3.7-py3-none-any.whl (97 kB)\n",
      "     |████████████████████████████████| 97 kB 32.6 MB/s             \n",
      "\u001b[?25hCollecting setuptools\n",
      "  Downloading setuptools-59.6.0-py3-none-any.whl (952 kB)\n",
      "     |████████████████████████████████| 952 kB 30.7 MB/s            \n",
      "\u001b[?25hCollecting tensorboard-data-server<0.7.0,>=0.6.0\n",
      "  Downloading tensorboard_data_server-0.6.1-py3-none-macosx_10_9_x86_64.whl (3.5 MB)\n",
      "     |████████████████████████████████| 3.5 MB 115.8 MB/s            \n",
      "\u001b[?25hCollecting google-auth-oauthlib<0.5,>=0.4.1\n",
      "  Downloading google_auth_oauthlib-0.4.6-py2.py3-none-any.whl (18 kB)\n",
      "Collecting werkzeug>=0.11.15\n",
      "  Downloading Werkzeug-2.0.3-py3-none-any.whl (289 kB)\n",
      "     |████████████████████████████████| 289 kB 20.1 MB/s            \n",
      "\u001b[?25hCollecting google-auth<2,>=1.6.3\n",
      "  Downloading google_auth-1.35.0-py2.py3-none-any.whl (152 kB)\n",
      "     |████████████████████████████████| 152 kB 51.0 MB/s            \n",
      "\u001b[?25hCollecting cachetools<5.0,>=2.0.0\n",
      "  Downloading cachetools-4.2.4-py3-none-any.whl (10 kB)\n",
      "Collecting pyasn1-modules>=0.2.1\n",
      "  Downloading pyasn1_modules-0.3.0-py2.py3-none-any.whl (181 kB)\n",
      "     |████████████████████████████████| 181 kB 11.1 MB/s            \n",
      "\u001b[?25hCollecting rsa<5,>=3.1.4\n",
      "  Downloading rsa-4.9-py3-none-any.whl (34 kB)\n",
      "Collecting requests-oauthlib>=0.7.0\n",
      "  Using cached requests_oauthlib-1.3.1-py2.py3-none-any.whl (23 kB)\n",
      "Collecting importlib-metadata>=4.4\n",
      "  Downloading importlib_metadata-4.8.3-py3-none-any.whl (17 kB)\n",
      "Collecting dataclasses\n",
      "  Downloading dataclasses-0.8-py3-none-any.whl (19 kB)\n",
      "Collecting zipp>=0.5\n",
      "  Downloading zipp-3.6.0-py3-none-any.whl (5.3 kB)\n",
      "Collecting pyasn1<0.6.0,>=0.4.6\n",
      "  Downloading pyasn1-0.5.0-py2.py3-none-any.whl (83 kB)\n",
      "     |████████████████████████████████| 83 kB 15.5 MB/s             \n",
      "\u001b[?25hCollecting oauthlib>=3.0.0\n",
      "  Using cached oauthlib-3.2.2-py3-none-any.whl (151 kB)\n",
      "Using legacy 'setup.py install' for prettytable, since package 'wheel' is not installed.\n",
      "Using legacy 'setup.py install' for resampy, since package 'wheel' is not installed.\n",
      "Using legacy 'setup.py install' for clang, since package 'wheel' is not installed.\n",
      "Using legacy 'setup.py install' for termcolor, since package 'wheel' is not installed.\n",
      "Using legacy 'setup.py install' for wrapt, since package 'wheel' is not installed.\n",
      "Installing collected packages: urllib3, pyasn1, idna, charset-normalizer, certifi, zipp, typing-extensions, six, setuptools, rsa, requests, pyasn1-modules, oauthlib, cachetools, requests-oauthlib, importlib-metadata, google-auth, dataclasses, wheel, werkzeug, tensorboard-plugin-wit, tensorboard-data-server, protobuf, markdown, llvmlite, grpcio, google-auth-oauthlib, cached-property, absl-py, wrapt, termcolor, tensorflow-estimator, tensorboard, opt-einsum, numba, keras-preprocessing, keras, h5py, google-pasta, gast, flatbuffers, clang, astunparse, tensorflow, resampy, prettytable, coremltools, turicreate\n",
      "\u001b[33m  WARNING: The script normalizer is installed in '/Library/Frameworks/Python.framework/Versions/3.6/bin' which is not on PATH.\n",
      "  Consider adding this directory to PATH or, if you prefer to suppress this warning, use --no-warn-script-location.\u001b[0m\n",
      "  Attempting uninstall: six\n",
      "    Found existing installation: six 1.16.0\n",
      "    Uninstalling six-1.16.0:\n",
      "      Successfully uninstalled six-1.16.0\n",
      "  Attempting uninstall: setuptools\n",
      "    Found existing installation: setuptools 40.6.2\n",
      "    Uninstalling setuptools-40.6.2:\n",
      "      Successfully uninstalled setuptools-40.6.2\n",
      "\u001b[33m  WARNING: The scripts pyrsa-decrypt, pyrsa-encrypt, pyrsa-keygen, pyrsa-priv2pub, pyrsa-sign and pyrsa-verify are installed in '/Library/Frameworks/Python.framework/Versions/3.6/bin' which is not on PATH.\n",
      "  Consider adding this directory to PATH or, if you prefer to suppress this warning, use --no-warn-script-location.\u001b[0m\n",
      "\u001b[33m  WARNING: The script wheel is installed in '/Library/Frameworks/Python.framework/Versions/3.6/bin' which is not on PATH.\n",
      "  Consider adding this directory to PATH or, if you prefer to suppress this warning, use --no-warn-script-location.\u001b[0m\n",
      "\u001b[33m  WARNING: The script markdown_py is installed in '/Library/Frameworks/Python.framework/Versions/3.6/bin' which is not on PATH.\n",
      "  Consider adding this directory to PATH or, if you prefer to suppress this warning, use --no-warn-script-location.\u001b[0m\n",
      "\u001b[33m  WARNING: The script google-oauthlib-tool is installed in '/Library/Frameworks/Python.framework/Versions/3.6/bin' which is not on PATH.\n",
      "  Consider adding this directory to PATH or, if you prefer to suppress this warning, use --no-warn-script-location.\u001b[0m\n",
      "    Running setup.py install for wrapt ... \u001b[?25ldone\n",
      "\u001b[?25h    Running setup.py install for termcolor ... \u001b[?25ldone\n",
      "\u001b[33m  WARNING: The script tensorboard is installed in '/Library/Frameworks/Python.framework/Versions/3.6/bin' which is not on PATH.\n",
      "  Consider adding this directory to PATH or, if you prefer to suppress this warning, use --no-warn-script-location.\u001b[0m\n",
      "\u001b[?25h    Running setup.py install for clang ... \u001b[?25ldone\n",
      "\u001b[33m  WARNING: The scripts estimator_ckpt_converter, import_pb_to_tensorboard, saved_model_cli, tensorboard, tf_upgrade_v2, tflite_convert, toco and toco_from_protos are installed in '/Library/Frameworks/Python.framework/Versions/3.6/bin' which is not on PATH.\n",
      "  Consider adding this directory to PATH or, if you prefer to suppress this warning, use --no-warn-script-location.\u001b[0m\n",
      "\u001b[?25h    Running setup.py install for resampy ... \u001b[?25ldone\n",
      "\u001b[?25h    Running setup.py install for prettytable ... \u001b[?25ldone\n",
      "\u001b[33m  WARNING: The script coremlconverter is installed in '/Library/Frameworks/Python.framework/Versions/3.6/bin' which is not on PATH.\n",
      "  Consider adding this directory to PATH or, if you prefer to suppress this warning, use --no-warn-script-location.\u001b[0m\n",
      "\u001b[?25hSuccessfully installed absl-py-0.15.0 astunparse-1.6.3 cached-property-1.5.2 cachetools-4.2.4 certifi-2023.11.17 charset-normalizer-2.0.12 clang-5.0 coremltools-3.3 dataclasses-0.8 flatbuffers-1.12 gast-0.4.0 google-auth-1.35.0 google-auth-oauthlib-0.4.6 google-pasta-0.2.0 grpcio-1.48.2 h5py-3.1.0 idna-3.4 importlib-metadata-4.8.3 keras-2.6.0 keras-preprocessing-1.1.2 llvmlite-0.36.0 markdown-3.3.7 numba-0.53.1 oauthlib-3.2.2 opt-einsum-3.3.0 prettytable-0.7.2 protobuf-3.19.6 pyasn1-0.5.0 pyasn1-modules-0.3.0 requests-2.27.1 requests-oauthlib-1.3.1 resampy-0.2.1 rsa-4.9 setuptools-59.6.0 six-1.15.0 tensorboard-2.6.0 tensorboard-data-server-0.6.1 tensorboard-plugin-wit-1.8.1 tensorflow-2.6.2 tensorflow-estimator-2.6.0 termcolor-1.1.0 turicreate-6.4.1 typing-extensions-3.7.4.3 urllib3-1.26.18 werkzeug-2.0.3 wheel-0.37.1 wrapt-1.12.1 zipp-3.6.0\n",
      "Note: you may need to restart the kernel to use updated packages.\n"
     ]
    }
   ],
   "source": [
    "# pip install turicreate"
   ]
  },
  {
   "cell_type": "code",
   "execution_count": 34,
   "id": "c5895bac",
   "metadata": {},
   "outputs": [],
   "source": [
    "import turicreate"
   ]
  },
  {
   "cell_type": "code",
   "execution_count": 53,
   "id": "007371a0",
   "metadata": {},
   "outputs": [
    {
     "name": "stdout",
     "output_type": "stream",
     "text": [
      "<class 'pandas.core.frame.DataFrame'>\n",
      "RangeIndex: 1000 entries, 0 to 999\n",
      "Data columns (total 5 columns):\n",
      " #   Column     Non-Null Count  Dtype  \n",
      "---  ------     --------------  -----  \n",
      " 0   index      1000 non-null   int64  \n",
      " 1   userId     1000 non-null   int64  \n",
      " 2   movieId    1000 non-null   int64  \n",
      " 3   rating     1000 non-null   float64\n",
      " 4   timestamp  1000 non-null   int64  \n",
      "dtypes: float64(1), int64(4)\n",
      "memory usage: 39.2 KB\n"
     ]
    }
   ],
   "source": [
    "ratingsNew_2 = rating_data.sample(n=1000).reset_index()\n",
    "ratingsNew_2.info()"
   ]
  },
  {
   "cell_type": "code",
   "execution_count": 54,
   "id": "6ff8ec6c",
   "metadata": {},
   "outputs": [
    {
     "data": {
      "text/html": [
       "<div>\n",
       "<style scoped>\n",
       "    .dataframe tbody tr th:only-of-type {\n",
       "        vertical-align: middle;\n",
       "    }\n",
       "\n",
       "    .dataframe tbody tr th {\n",
       "        vertical-align: top;\n",
       "    }\n",
       "\n",
       "    .dataframe thead th {\n",
       "        text-align: right;\n",
       "    }\n",
       "</style>\n",
       "<table border=\"1\" class=\"dataframe\">\n",
       "  <thead>\n",
       "    <tr style=\"text-align: right;\">\n",
       "      <th></th>\n",
       "      <th>userId</th>\n",
       "      <th>movieId</th>\n",
       "      <th>rating</th>\n",
       "      <th>timestamp</th>\n",
       "    </tr>\n",
       "  </thead>\n",
       "  <tbody>\n",
       "    <tr>\n",
       "      <th>0</th>\n",
       "      <td>79279</td>\n",
       "      <td>5349</td>\n",
       "      <td>4.0</td>\n",
       "      <td>1185039941</td>\n",
       "    </tr>\n",
       "    <tr>\n",
       "      <th>1</th>\n",
       "      <td>76365</td>\n",
       "      <td>1573</td>\n",
       "      <td>4.0</td>\n",
       "      <td>1020122408</td>\n",
       "    </tr>\n",
       "    <tr>\n",
       "      <th>2</th>\n",
       "      <td>71828</td>\n",
       "      <td>627</td>\n",
       "      <td>5.0</td>\n",
       "      <td>867929343</td>\n",
       "    </tr>\n",
       "    <tr>\n",
       "      <th>3</th>\n",
       "      <td>15360</td>\n",
       "      <td>293</td>\n",
       "      <td>4.0</td>\n",
       "      <td>974705956</td>\n",
       "    </tr>\n",
       "    <tr>\n",
       "      <th>4</th>\n",
       "      <td>40371</td>\n",
       "      <td>3968</td>\n",
       "      <td>2.0</td>\n",
       "      <td>1287684732</td>\n",
       "    </tr>\n",
       "    <tr>\n",
       "      <th>...</th>\n",
       "      <td>...</td>\n",
       "      <td>...</td>\n",
       "      <td>...</td>\n",
       "      <td>...</td>\n",
       "    </tr>\n",
       "    <tr>\n",
       "      <th>995</th>\n",
       "      <td>6266</td>\n",
       "      <td>236</td>\n",
       "      <td>4.0</td>\n",
       "      <td>846670808</td>\n",
       "    </tr>\n",
       "    <tr>\n",
       "      <th>996</th>\n",
       "      <td>55899</td>\n",
       "      <td>1299</td>\n",
       "      <td>4.0</td>\n",
       "      <td>955388729</td>\n",
       "    </tr>\n",
       "    <tr>\n",
       "      <th>997</th>\n",
       "      <td>109227</td>\n",
       "      <td>19</td>\n",
       "      <td>0.5</td>\n",
       "      <td>1279667375</td>\n",
       "    </tr>\n",
       "    <tr>\n",
       "      <th>998</th>\n",
       "      <td>38372</td>\n",
       "      <td>3948</td>\n",
       "      <td>3.0</td>\n",
       "      <td>1208282346</td>\n",
       "    </tr>\n",
       "    <tr>\n",
       "      <th>999</th>\n",
       "      <td>38666</td>\n",
       "      <td>3039</td>\n",
       "      <td>5.0</td>\n",
       "      <td>1064784271</td>\n",
       "    </tr>\n",
       "  </tbody>\n",
       "</table>\n",
       "<p>1000 rows × 4 columns</p>\n",
       "</div>"
      ],
      "text/plain": [
       "     userId  movieId  rating   timestamp\n",
       "0     79279     5349     4.0  1185039941\n",
       "1     76365     1573     4.0  1020122408\n",
       "2     71828      627     5.0   867929343\n",
       "3     15360      293     4.0   974705956\n",
       "4     40371     3968     2.0  1287684732\n",
       "..      ...      ...     ...         ...\n",
       "995    6266      236     4.0   846670808\n",
       "996   55899     1299     4.0   955388729\n",
       "997  109227       19     0.5  1279667375\n",
       "998   38372     3948     3.0  1208282346\n",
       "999   38666     3039     5.0  1064784271\n",
       "\n",
       "[1000 rows x 4 columns]"
      ]
     },
     "execution_count": 54,
     "metadata": {},
     "output_type": "execute_result"
    }
   ],
   "source": [
    "ratingsNew_2 = ratingsNew_2[['userId', 'movieId', 'rating', 'timestamp']].drop_duplicates()\n",
    "ratingsNew_2"
   ]
  },
  {
   "cell_type": "code",
   "execution_count": 64,
   "id": "e2f93a39",
   "metadata": {},
   "outputs": [],
   "source": [
    "total_rows = len(ratingsNew)\n",
    "split_index = int(0.25 * total_rows)"
   ]
  },
  {
   "cell_type": "code",
   "execution_count": 65,
   "id": "b5467fa2",
   "metadata": {},
   "outputs": [],
   "source": [
    "testset = ratingsNew.iloc[:split_index]\n",
    "trainset = ratingsNew.iloc[split_index:]\n",
    "\n",
    "testset.reset_index(drop=True, inplace=True)\n",
    "trainset.reset_index(drop=True, inplace=True)"
   ]
  },
  {
   "cell_type": "code",
   "execution_count": 68,
   "id": "772a5b92",
   "metadata": {},
   "outputs": [],
   "source": [
    "train_data = turicreate.SFrame(trainset)\n",
    "test_data = turicreate.SFrame(testset)"
   ]
  },
  {
   "cell_type": "code",
   "execution_count": 70,
   "id": "c892c4c0",
   "metadata": {},
   "outputs": [
    {
     "data": {
      "text/html": [
       "<pre>Warning: Ignoring columns index, timestamp;</pre>"
      ],
      "text/plain": [
       "Warning: Ignoring columns index, timestamp;"
      ]
     },
     "metadata": {},
     "output_type": "display_data"
    },
    {
     "data": {
      "text/html": [
       "<pre>    To use these columns in scoring predictions, use a model that allows the use of additional features.</pre>"
      ],
      "text/plain": [
       "    To use these columns in scoring predictions, use a model that allows the use of additional features."
      ]
     },
     "metadata": {},
     "output_type": "display_data"
    },
    {
     "data": {
      "text/html": [
       "<pre>Preparing data set.</pre>"
      ],
      "text/plain": [
       "Preparing data set."
      ]
     },
     "metadata": {},
     "output_type": "display_data"
    },
    {
     "data": {
      "text/html": [
       "<pre>    Data has 75000 observations with 43541 users and 7651 items.</pre>"
      ],
      "text/plain": [
       "    Data has 75000 observations with 43541 users and 7651 items."
      ]
     },
     "metadata": {},
     "output_type": "display_data"
    },
    {
     "data": {
      "text/html": [
       "<pre>    Data prepared in: 0.073776s</pre>"
      ],
      "text/plain": [
       "    Data prepared in: 0.073776s"
      ]
     },
     "metadata": {},
     "output_type": "display_data"
    },
    {
     "data": {
      "text/html": [
       "<pre>75000 observations to process; with 7651 unique items.</pre>"
      ],
      "text/plain": [
       "75000 observations to process; with 7651 unique items."
      ]
     },
     "metadata": {},
     "output_type": "display_data"
    }
   ],
   "source": [
    "popularity_model = turicreate.popularity_recommender.create(train_data, user_id='userId', item_id='movieId', target='rating')"
   ]
  },
  {
   "cell_type": "code",
   "execution_count": 71,
   "id": "9fd6238f",
   "metadata": {},
   "outputs": [
    {
     "name": "stdout",
     "output_type": "stream",
     "text": [
      "+--------+---------+-------+------+\n",
      "| userId | movieId | score | rank |\n",
      "+--------+---------+-------+------+\n",
      "|   1    |   5063  |  5.0  |  1   |\n",
      "|   1    |  26649  |  5.0  |  2   |\n",
      "|   1    |   7095  |  5.0  |  3   |\n",
      "|   1    |   893   |  5.0  |  4   |\n",
      "|   1    |  31447  |  5.0  |  5   |\n",
      "|   2    |   5063  |  5.0  |  1   |\n",
      "|   2    |  26649  |  5.0  |  2   |\n",
      "|   2    |   7095  |  5.0  |  3   |\n",
      "|   2    |   893   |  5.0  |  4   |\n",
      "|   2    |  31447  |  5.0  |  5   |\n",
      "|   3    |   5063  |  5.0  |  1   |\n",
      "|   3    |  26649  |  5.0  |  2   |\n",
      "|   3    |   7095  |  5.0  |  3   |\n",
      "|   3    |   893   |  5.0  |  4   |\n",
      "|   3    |  31447  |  5.0  |  5   |\n",
      "|   4    |   5063  |  5.0  |  1   |\n",
      "|   4    |  26649  |  5.0  |  2   |\n",
      "|   4    |   7095  |  5.0  |  3   |\n",
      "|   4    |   893   |  5.0  |  4   |\n",
      "|   4    |  31447  |  5.0  |  5   |\n",
      "|   5    |   5063  |  5.0  |  1   |\n",
      "|   5    |  26649  |  5.0  |  2   |\n",
      "|   5    |   7095  |  5.0  |  3   |\n",
      "|   5    |   893   |  5.0  |  4   |\n",
      "|   5    |  31447  |  5.0  |  5   |\n",
      "+--------+---------+-------+------+\n",
      "[25 rows x 4 columns]\n",
      "\n"
     ]
    }
   ],
   "source": [
    "popularity_recomm = popularity_model.recommend(users=[1,2,3,4,5],k=5)\n",
    "popularity_recomm.print_rows(num_rows=25)"
   ]
  },
  {
   "cell_type": "code",
   "execution_count": 72,
   "id": "08939bc5",
   "metadata": {},
   "outputs": [
    {
     "data": {
      "text/html": [
       "<pre>Warning: Ignoring columns index, timestamp;</pre>"
      ],
      "text/plain": [
       "Warning: Ignoring columns index, timestamp;"
      ]
     },
     "metadata": {},
     "output_type": "display_data"
    },
    {
     "data": {
      "text/html": [
       "<pre>    To use these columns in scoring predictions, use a model that allows the use of additional features.</pre>"
      ],
      "text/plain": [
       "    To use these columns in scoring predictions, use a model that allows the use of additional features."
      ]
     },
     "metadata": {},
     "output_type": "display_data"
    },
    {
     "data": {
      "text/html": [
       "<pre>Preparing data set.</pre>"
      ],
      "text/plain": [
       "Preparing data set."
      ]
     },
     "metadata": {},
     "output_type": "display_data"
    },
    {
     "data": {
      "text/html": [
       "<pre>    Data has 75000 observations with 43541 users and 7651 items.</pre>"
      ],
      "text/plain": [
       "    Data has 75000 observations with 43541 users and 7651 items."
      ]
     },
     "metadata": {},
     "output_type": "display_data"
    },
    {
     "data": {
      "text/html": [
       "<pre>    Data prepared in: 0.086675s</pre>"
      ],
      "text/plain": [
       "    Data prepared in: 0.086675s"
      ]
     },
     "metadata": {},
     "output_type": "display_data"
    },
    {
     "data": {
      "text/html": [
       "<pre>Training model from provided data.</pre>"
      ],
      "text/plain": [
       "Training model from provided data."
      ]
     },
     "metadata": {},
     "output_type": "display_data"
    },
    {
     "data": {
      "text/html": [
       "<pre>Gathering per-item and per-user statistics.</pre>"
      ],
      "text/plain": [
       "Gathering per-item and per-user statistics."
      ]
     },
     "metadata": {},
     "output_type": "display_data"
    },
    {
     "data": {
      "text/html": [
       "<pre>+--------------------------------+------------+</pre>"
      ],
      "text/plain": [
       "+--------------------------------+------------+"
      ]
     },
     "metadata": {},
     "output_type": "display_data"
    },
    {
     "data": {
      "text/html": [
       "<pre>| Elapsed Time (Item Statistics) | % Complete |</pre>"
      ],
      "text/plain": [
       "| Elapsed Time (Item Statistics) | % Complete |"
      ]
     },
     "metadata": {},
     "output_type": "display_data"
    },
    {
     "data": {
      "text/html": [
       "<pre>+--------------------------------+------------+</pre>"
      ],
      "text/plain": [
       "+--------------------------------+------------+"
      ]
     },
     "metadata": {},
     "output_type": "display_data"
    },
    {
     "data": {
      "text/html": [
       "<pre>| 2.4ms                          | 2.25       |</pre>"
      ],
      "text/plain": [
       "| 2.4ms                          | 2.25       |"
      ]
     },
     "metadata": {},
     "output_type": "display_data"
    },
    {
     "data": {
      "text/html": [
       "<pre>| 9.674ms                        | 100        |</pre>"
      ],
      "text/plain": [
       "| 9.674ms                        | 100        |"
      ]
     },
     "metadata": {},
     "output_type": "display_data"
    },
    {
     "data": {
      "text/html": [
       "<pre>+--------------------------------+------------+</pre>"
      ],
      "text/plain": [
       "+--------------------------------+------------+"
      ]
     },
     "metadata": {},
     "output_type": "display_data"
    },
    {
     "data": {
      "text/html": [
       "<pre>Setting up lookup tables.</pre>"
      ],
      "text/plain": [
       "Setting up lookup tables."
      ]
     },
     "metadata": {},
     "output_type": "display_data"
    },
    {
     "data": {
      "text/html": [
       "<pre>Processing data in one pass using dense lookup tables.</pre>"
      ],
      "text/plain": [
       "Processing data in one pass using dense lookup tables."
      ]
     },
     "metadata": {},
     "output_type": "display_data"
    },
    {
     "data": {
      "text/html": [
       "<pre>+-------------------------------------+------------------+-----------------+</pre>"
      ],
      "text/plain": [
       "+-------------------------------------+------------------+-----------------+"
      ]
     },
     "metadata": {},
     "output_type": "display_data"
    },
    {
     "data": {
      "text/html": [
       "<pre>| Elapsed Time (Constructing Lookups) | Total % Complete | Items Processed |</pre>"
      ],
      "text/plain": [
       "| Elapsed Time (Constructing Lookups) | Total % Complete | Items Processed |"
      ]
     },
     "metadata": {},
     "output_type": "display_data"
    },
    {
     "data": {
      "text/html": [
       "<pre>+-------------------------------------+------------------+-----------------+</pre>"
      ],
      "text/plain": [
       "+-------------------------------------+------------------+-----------------+"
      ]
     },
     "metadata": {},
     "output_type": "display_data"
    },
    {
     "data": {
      "text/html": [
       "<pre>| 107.609ms                           | 0                | 0               |</pre>"
      ],
      "text/plain": [
       "| 107.609ms                           | 0                | 0               |"
      ]
     },
     "metadata": {},
     "output_type": "display_data"
    },
    {
     "data": {
      "text/html": [
       "<pre>| 200.886ms                           | 100              | 7651            |</pre>"
      ],
      "text/plain": [
       "| 200.886ms                           | 100              | 7651            |"
      ]
     },
     "metadata": {},
     "output_type": "display_data"
    },
    {
     "data": {
      "text/html": [
       "<pre>+-------------------------------------+------------------+-----------------+</pre>"
      ],
      "text/plain": [
       "+-------------------------------------+------------------+-----------------+"
      ]
     },
     "metadata": {},
     "output_type": "display_data"
    },
    {
     "data": {
      "text/html": [
       "<pre>Finalizing lookup tables.</pre>"
      ],
      "text/plain": [
       "Finalizing lookup tables."
      ]
     },
     "metadata": {},
     "output_type": "display_data"
    },
    {
     "data": {
      "text/html": [
       "<pre>Generating candidate set for working with new users.</pre>"
      ],
      "text/plain": [
       "Generating candidate set for working with new users."
      ]
     },
     "metadata": {},
     "output_type": "display_data"
    },
    {
     "data": {
      "text/html": [
       "<pre>Finished training in 1.21819s</pre>"
      ],
      "text/plain": [
       "Finished training in 1.21819s"
      ]
     },
     "metadata": {},
     "output_type": "display_data"
    }
   ],
   "source": [
    "item_sim_model = turicreate.item_similarity_recommender.create(train_data, user_id='userId', item_id='movieId', target='rating', similarity_type='cosine')"
   ]
  },
  {
   "cell_type": "code",
   "execution_count": 73,
   "id": "dd046da2",
   "metadata": {},
   "outputs": [
    {
     "name": "stdout",
     "output_type": "stream",
     "text": [
      "+--------+---------+-----------------------+------+\n",
      "| userId | movieId |         score         | rank |\n",
      "+--------+---------+-----------------------+------+\n",
      "|   1    |  94070  |   0.3778707981109619  |  1   |\n",
      "|   1    |   558   |   0.3778707981109619  |  2   |\n",
      "|   1    |   3701  |  0.35866767168045044  |  3   |\n",
      "|   1    |  54004  |   0.3365015387535095  |  4   |\n",
      "|   1    |   7614  |   0.3112124800682068  |  5   |\n",
      "|   2    |   398   | 0.0029947400093078614 |  1   |\n",
      "|   2    |   1671  |  0.002954211235046387 |  2   |\n",
      "|   2    |   3133  | 0.0028123414516448976 |  3   |\n",
      "|   2    |   387   | 0.0026794922351837157 |  4   |\n",
      "|   2    |   1008  |  0.002606053352355957 |  5   |\n",
      "|   3    |   498   |   0.809154748916626   |  1   |\n",
      "|   3    |  100843 |   0.6726915836334229  |  2   |\n",
      "|   3    |   6961  |   0.5979480743408203  |  3   |\n",
      "|   3    |  81736  |   0.5979480743408203  |  4   |\n",
      "|   3    |  26403  |   0.5057216882705688  |  5   |\n",
      "|   4    |   398   | 0.0029947400093078614 |  1   |\n",
      "|   4    |   1671  |  0.002954211235046387 |  2   |\n",
      "|   4    |   3133  | 0.0028123414516448976 |  3   |\n",
      "|   4    |   387   | 0.0026794922351837157 |  4   |\n",
      "|   4    |   1008  |  0.002606053352355957 |  5   |\n",
      "|   5    |   398   | 0.0029947400093078614 |  1   |\n",
      "|   5    |   1671  |  0.002954211235046387 |  2   |\n",
      "|   5    |   3133  | 0.0028123414516448976 |  3   |\n",
      "|   5    |   387   | 0.0026794922351837157 |  4   |\n",
      "|   5    |   1008  |  0.002606053352355957 |  5   |\n",
      "+--------+---------+-----------------------+------+\n",
      "[25 rows x 4 columns]\n",
      "\n"
     ]
    }
   ],
   "source": [
    "item_sim_recomm = item_sim_model.recommend(users=[1,2,3,4,5],k=5)\n",
    "item_sim_recomm.print_rows(num_rows=25)"
   ]
  }
 ],
 "metadata": {
  "kernelspec": {
   "display_name": "Python 3",
   "language": "python",
   "name": "python3"
  },
  "language_info": {
   "codemirror_mode": {
    "name": "ipython",
    "version": 3
   },
   "file_extension": ".py",
   "mimetype": "text/x-python",
   "name": "python",
   "nbconvert_exporter": "python",
   "pygments_lexer": "ipython3",
   "version": "3.6.8"
  },
  "vscode": {
   "interpreter": {
    "hash": "aee8b7b246df8f9039afb4144a1f6fd8d2ca17a180786b69acc140d282b71a49"
   }
  }
 },
 "nbformat": 4,
 "nbformat_minor": 5
}
